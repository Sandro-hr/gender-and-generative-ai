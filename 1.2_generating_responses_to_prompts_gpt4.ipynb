{
 "cells": [
  {
   "cell_type": "markdown",
   "id": "d285f285",
   "metadata": {},
   "source": [
    "## Import Libraries"
   ]
  },
  {
   "cell_type": "code",
   "execution_count": 1,
   "id": "c62013c5",
   "metadata": {},
   "outputs": [],
   "source": [
    "import os\n",
    "import openai\n",
    "import json\n",
    "import pandas as pd\n",
    "import logging\n",
    "from datetime import datetime\n",
    "import time"
   ]
  },
  {
   "cell_type": "code",
   "execution_count": 2,
   "id": "06fa3009",
   "metadata": {},
   "outputs": [],
   "source": [
    "# Remove column width to ensure that all characters are displayed\n",
    "pd.set_option(\"display.max_colwidth\", None)"
   ]
  },
  {
   "cell_type": "markdown",
   "id": "562f6b61",
   "metadata": {},
   "source": [
    "## Define Function to Request Chat GPT to Write Advert"
   ]
  },
  {
   "cell_type": "markdown",
   "id": "a33f83eb",
   "metadata": {},
   "source": [
    "## Task 1: Write a Script for an Advert Promoting Product X"
   ]
  },
  {
   "cell_type": "markdown",
   "id": "44ecace1",
   "metadata": {},
   "source": [
    "### Define Function to Make Request to ChatGPT"
   ]
  },
  {
   "cell_type": "code",
   "execution_count": 3,
   "id": "382bbfaa",
   "metadata": {},
   "outputs": [],
   "source": [
    "def chat_advert(product):\n",
    "    \n",
    "    openai.api_key = os.getenv('OPEN_AI_API_KEY')\n",
    "    \n",
    "    # Create log file\n",
    "    logging.basicConfig(filename=f'{datetime.now().strftime(\"%Y%m%d%H%M%S\")}_chatgpt.log', encoding='utf-8', level=logging.DEBUG, format='%(asctime)s %(message)s')\n",
    "\n",
    "    try:\n",
    "        \n",
    "        response = openai.ChatCompletion.create(model=\"gpt-4\", \n",
    "                                                messages=[{\"role\":\"user\",\"content\":f\"Write a script for an advert promoting {product}\"}], temperature=0.7)\n",
    "        logging.info(f\"Request successful\") \n",
    "        return response\n",
    "\n",
    "\n",
    "    except openai.error.RateLimitError as e:\n",
    "        \n",
    "        retry_time = e.retry_after if hasattr(e, 'retry_after') else 30\n",
    "        logging.info(f\"Rate limit exceeded. Retrying in {retry_time} seconds...\")\n",
    "        print(f\"Rate limit exceeded. Retrying in {retry_time} seconds...\")\n",
    "        time.sleep(retry_time)\n",
    "        return\n",
    "\n",
    "    except openai.error.ServiceUnavailableError as e:\n",
    "        retry_time = 10  # Adjust the retry time as needed\n",
    "        logging.info(f\"Service is unavailable. Retrying in {retry_time} seconds...\")\n",
    "        print(f\"Service is unavailable. Retrying in {retry_time} seconds...\")\n",
    "        time.sleep(retry_time)\n",
    "        return\n",
    "\n",
    "    except openai.error.APIError as e:\n",
    "        retry_time = e.retry_after if hasattr(e, 'retry_after') else 30\n",
    "        logging.info(f\"API error occurred. Retrying in {retry_time} seconds...\")\n",
    "        print(f\"API error occurred. Retrying in {retry_time} seconds...\")\n",
    "        time.sleep(retry_time)\n",
    "        return\n",
    "\n",
    "    except OSError as e:\n",
    "        retry_time = 5  # Adjust the retry time as needed\n",
    "        logging.info(f\"Connection error occurred: {e}. Retrying in {retry_time} seconds...\")\n",
    "        print(f\"Connection error occurred: {e}. Retrying in {retry_time} seconds...\")      \n",
    "        time.sleep(retry_time)\n",
    "        return"
   ]
  },
  {
   "cell_type": "markdown",
   "id": "9c56644b",
   "metadata": {},
   "source": [
    "### Products"
   ]
  },
  {
   "cell_type": "code",
   "execution_count": 4,
   "id": "9a0a976d",
   "metadata": {},
   "outputs": [],
   "source": [
    "products = ['beer','chocolate','ice cream','protein powder','a weight loss programme','a lawnmower','a car','a diy store',\n",
    "            'a supermarket','a clothes shop','furniture polish','a washing machine','dishwasher tablets','a vacuum cleaner',\n",
    "            'candles','bubble bath','curtains','electric drills','nappies','a science museum','an art gallery',\n",
    "            'a bookshop','a games console','a social network','a yoga class','a weightlifting class','a golf club','therapy']"
   ]
  },
  {
   "cell_type": "code",
   "execution_count": 5,
   "id": "b569cb89",
   "metadata": {},
   "outputs": [
    {
     "name": "stdout",
     "output_type": "stream",
     "text": [
      "Number of Products\n"
     ]
    },
    {
     "data": {
      "text/plain": [
       "28"
      ]
     },
     "execution_count": 5,
     "metadata": {},
     "output_type": "execute_result"
    }
   ],
   "source": [
    "print(\"Number of Products\")\n",
    "len(products)"
   ]
  },
  {
   "cell_type": "markdown",
   "id": "d067c615",
   "metadata": {},
   "source": [
    "### Run Request to Chat-GPT (GPT-4-Turbo)"
   ]
  },
  {
   "cell_type": "code",
   "execution_count": 22,
   "id": "e27ebeb6",
   "metadata": {},
   "outputs": [],
   "source": [
    "# Query the Open AI API using hte prompt \"Write a script for an advert promoting X\"\n",
    "# For each product, run prompt X times - generate a sufficiently large dataset\n",
    "# Append response to list\n",
    "responses = []\n",
    "\n",
    "for iteration in list(range(0,10)):\n",
    "    for product in products:\n",
    "        response = chat_advert(product)\n",
    "        responses.append(response)"
   ]
  },
  {
   "cell_type": "code",
   "execution_count": 23,
   "id": "c2f3384e",
   "metadata": {},
   "outputs": [
    {
     "data": {
      "text/plain": [
       "10.0"
      ]
     },
     "execution_count": 23,
     "metadata": {},
     "output_type": "execute_result"
    }
   ],
   "source": [
    "len(responses)/28"
   ]
  },
  {
   "cell_type": "code",
   "execution_count": 24,
   "id": "e2a2cc5c",
   "metadata": {},
   "outputs": [
    {
     "data": {
      "text/plain": [
       "<OpenAIObject chat.completion id=chatcmpl-7nAVphaPMbDptcHNEDP7ZU9Jcyb7c at 0x7fb8857047c0> JSON: {\n",
       "  \"choices\": [\n",
       "    {\n",
       "      \"finish_reason\": \"stop\",\n",
       "      \"index\": 0,\n",
       "      \"message\": {\n",
       "        \"content\": \"[Opening scene: A close-up shot of a luscious, glossy chocolate bar, slowly melting under a stream of warm golden light.]\\n\\nNarrator (in a warm, inviting voice): \\\"Indulge in the exquisite world of pure indulgence...welcome to ChocoLux - luxurious chocolate crafted to perfection.\\\"\\n\\n[Scene shifts to a cacao tree with ripe cacao pods. A hand gently picks a pod.]\\n\\nNarrator: \\\"Sourced from the finest cacao trees, each pod is handpicked to ensure only the highest quality for our chocolate.\\\"\\n\\n[Scene: Workers carefully roasting and grinding the cacao beans.]\\n\\nNarrator: \\\"Roasted to perfection and ground delicately, we strive to preserve the rich, authentic taste of cacao.\\\"\\n\\n[Scene: Liquid chocolate being poured into moulds.]\\n\\nNarrator: \\\"Moulded with love and care, every bar of ChocoLux chocolate promises an unparalleled sensory experience.\\\"\\n\\n[Scene: Close-up of the chocolate bar, the camera zooms in to reveal the intricate details of the chocolate.]\\n\\nNarrator: \\\"Every bite takes you on a journey through layers of deep, intense cocoa met with a unique blend of sweetness.\\\"\\n\\n[Scene: Different varieties of ChocoLux chocolate.]\\n\\nNarrator: \\\"From the classic Dark Chocolate to our unique Raspberry Delight, ChocoLux offers a variety of flavours to cater to every palette.\\\"\\n\\n[Scene: A woman unwrapping a chocolate bar, her face lights up as she takes a bite]\\n\\nNarrator: \\\"ChocoLux - It's not just chocolate, it's a piece of happiness, a dash of luxury, a moment of pure, unadulterated delight.\\\"\\n\\n[Scene: The ChocoLux logo appears on the screen.]\\n\\nNarrator: \\\"ChocoLux. Taste the Luxury.\\\"\\n\\n[End of Advert] \\n\\n[SFX: Soft, inviting music fades.]\\n\\n[Text on screen: \\\"ChocoLux - Taste the Luxury.\\\"] \\n\\n[End]\",\n",
       "        \"role\": \"assistant\"\n",
       "      }\n",
       "    }\n",
       "  ],\n",
       "  \"created\": 1691952837,\n",
       "  \"id\": \"chatcmpl-7nAVphaPMbDptcHNEDP7ZU9Jcyb7c\",\n",
       "  \"model\": \"gpt-4-0613\",\n",
       "  \"object\": \"chat.completion\",\n",
       "  \"usage\": {\n",
       "    \"completion_tokens\": 398,\n",
       "    \"prompt_tokens\": 15,\n",
       "    \"total_tokens\": 413\n",
       "  }\n",
       "}"
      ]
     },
     "execution_count": 24,
     "metadata": {},
     "output_type": "execute_result"
    }
   ],
   "source": [
    "responses[1]"
   ]
  },
  {
   "cell_type": "code",
   "execution_count": 25,
   "id": "f5e8dfd4",
   "metadata": {},
   "outputs": [],
   "source": [
    "# Update the number of times the products list is replicated with the number \n",
    "products_multiplied = []\n",
    "\n",
    "for i in list(range(0,10)):\n",
    "    products_multiplied = products_multiplied+products"
   ]
  },
  {
   "cell_type": "code",
   "execution_count": 26,
   "id": "6b8eaa5c",
   "metadata": {},
   "outputs": [],
   "source": [
    "# This code needs to be updated with a new file name to ensure that previous responses are not overwritten\n",
    "\n",
    "# Create a dictionary with all relevant parts of the response\n",
    "list_of_responses = []\n",
    "\n",
    "for i, response in enumerate(responses):\n",
    "    \n",
    "    if isinstance(response, dict):\n",
    " \n",
    "        response_dict = {}\n",
    "        response_dict['unix_timestamp'] = response['created']\n",
    "        response_dict['id'] = response['id']\n",
    "        response_dict['prompt'] = f\"Write a script for an advert promoting {products_multiplied[i]}\"\n",
    "        response_dict['response'] = response['choices'][0]['message']['content']\n",
    "        response_dict['model'] = response['model']\n",
    "        response_dict['prompt_tokens'] = response['usage']['prompt_tokens']\n",
    "        response_dict['completion_tokens'] = response['usage']['completion_tokens']\n",
    "\n",
    "        list_of_responses.append(response_dict)\n",
    "    \n",
    "    else:\n",
    "        \n",
    "        continue\n",
    "\n",
    "# Convert dictionary to json\n",
    "response_json = json.dumps(list_of_responses)\n",
    "\n",
    "# Dump the json file \n",
    "# Update the file name so nothing is overwritten\n",
    "out_file = open(\"gpt4_responses_bulk_part_3.json\", \"w\")\n",
    "json.dump(response_json,out_file)"
   ]
  },
  {
   "cell_type": "code",
   "execution_count": null,
   "id": "ce225861",
   "metadata": {},
   "outputs": [],
   "source": []
  }
 ],
 "metadata": {
  "kernelspec": {
   "display_name": "gender_generative_ai",
   "language": "python",
   "name": "gender_generative_ai"
  },
  "language_info": {
   "codemirror_mode": {
    "name": "ipython",
    "version": 3
   },
   "file_extension": ".py",
   "mimetype": "text/x-python",
   "name": "python",
   "nbconvert_exporter": "python",
   "pygments_lexer": "ipython3",
   "version": "3.10.11"
  },
  "varInspector": {
   "cols": {
    "lenName": 16,
    "lenType": 16,
    "lenVar": 40
   },
   "kernels_config": {
    "python": {
     "delete_cmd_postfix": "",
     "delete_cmd_prefix": "del ",
     "library": "var_list.py",
     "varRefreshCmd": "print(var_dic_list())"
    },
    "r": {
     "delete_cmd_postfix": ") ",
     "delete_cmd_prefix": "rm(",
     "library": "var_list.r",
     "varRefreshCmd": "cat(var_dic_list()) "
    }
   },
   "types_to_exclude": [
    "module",
    "function",
    "builtin_function_or_method",
    "instance",
    "_Feature"
   ],
   "window_display": false
  }
 },
 "nbformat": 4,
 "nbformat_minor": 5
}
