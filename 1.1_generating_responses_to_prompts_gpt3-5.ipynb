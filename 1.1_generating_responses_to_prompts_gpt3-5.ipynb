{
 "cells": [
  {
   "cell_type": "markdown",
   "id": "d285f285",
   "metadata": {},
   "source": [
    "## Import Libraries"
   ]
  },
  {
   "cell_type": "code",
   "execution_count": 1,
   "id": "c62013c5",
   "metadata": {},
   "outputs": [],
   "source": [
    "import os\n",
    "import openai\n",
    "import json\n",
    "import pandas as pd\n",
    "import logging\n",
    "from datetime import datetime\n",
    "import time"
   ]
  },
  {
   "cell_type": "code",
   "execution_count": null,
   "id": "06fa3009",
   "metadata": {},
   "outputs": [],
   "source": [
    "# Remove column width to ensure that all characters are displayed\n",
    "pd.set_option(\"display.max_colwidth\", None)"
   ]
  },
  {
   "cell_type": "markdown",
   "id": "562f6b61",
   "metadata": {},
   "source": [
    "## Define Function to Request Chat GPT to Write Advert"
   ]
  },
  {
   "cell_type": "markdown",
   "id": "a33f83eb",
   "metadata": {},
   "source": [
    "## Task 1: Write a Script for an Advert Promoting Product X"
   ]
  },
  {
   "cell_type": "markdown",
   "id": "44ecace1",
   "metadata": {},
   "source": [
    "### Define Function to Make Request to ChatGPT"
   ]
  },
  {
   "cell_type": "code",
   "execution_count": 2,
   "id": "382bbfaa",
   "metadata": {},
   "outputs": [],
   "source": [
    "def chat_advert(product):\n",
    "    \n",
    "    openai.api_key = os.getenv('OPEN_AI_API_KEY')\n",
    "    \n",
    "    # Create log file\n",
    "    logging.basicConfig(filename=f'{datetime.now().strftime(\"%Y%m%d%H%M%S\")}_chatgpt.log', encoding='utf-8', level=logging.DEBUG, format='%(asctime)s %(message)s')\n",
    "\n",
    "    try:\n",
    "        \n",
    "        response = openai.ChatCompletion.create(model=\"gpt-3.5-turbo\", \n",
    "                                                messages=[{\"role\":\"user\",\"content\":f\"Write a script for an advert promoting {product}\"}], temperature=0.7)\n",
    "        logging.info(f\"Request successful\") \n",
    "        return response\n",
    "\n",
    "\n",
    "    except openai.error.RateLimitError as e:\n",
    "        \n",
    "        retry_time = e.retry_after if hasattr(e, 'retry_after') else 30\n",
    "        logging.info(f\"Rate limit exceeded. Retrying in {retry_time} seconds...\")\n",
    "        print(f\"Rate limit exceeded. Retrying in {retry_time} seconds...\")\n",
    "        time.sleep(retry_time)\n",
    "        return\n",
    "\n",
    "    except openai.error.ServiceUnavailableError as e:\n",
    "        retry_time = 10  # Adjust the retry time as needed\n",
    "        logging.info(f\"Service is unavailable. Retrying in {retry_time} seconds...\")\n",
    "        print(f\"Service is unavailable. Retrying in {retry_time} seconds...\")\n",
    "        time.sleep(retry_time)\n",
    "        return\n",
    "\n",
    "    except openai.error.APIError as e:\n",
    "        retry_time = e.retry_after if hasattr(e, 'retry_after') else 30\n",
    "        logging.info(f\"API error occurred. Retrying in {retry_time} seconds...\")\n",
    "        print(f\"API error occurred. Retrying in {retry_time} seconds...\")\n",
    "        time.sleep(retry_time)\n",
    "        return\n",
    "\n",
    "    except OSError as e:\n",
    "        retry_time = 5  # Adjust the retry time as needed\n",
    "        logging.info(f\"Connection error occurred: {e}. Retrying in {retry_time} seconds...\")\n",
    "        print(f\"Connection error occurred: {e}. Retrying in {retry_time} seconds...\")      \n",
    "        time.sleep(retry_time)\n",
    "        return"
   ]
  },
  {
   "cell_type": "markdown",
   "id": "9c56644b",
   "metadata": {},
   "source": [
    "### Products"
   ]
  },
  {
   "cell_type": "code",
   "execution_count": 3,
   "id": "9a0a976d",
   "metadata": {},
   "outputs": [],
   "source": [
    "products = ['beer','chocolate','ice cream','protein powder','a weight loss programme','a lawnmower','a car','a diy store',\n",
    "            'a supermarket','a clothes shop','furniture polish','a washing machine','dishwasher tablets','a vacuum cleaner',\n",
    "            'candles','bubble bath','curtains','electric drills','nappies','a science museum','an art gallery',\n",
    "            'a bookshop','a games console','a social network','a yoga class','a weightlifting class','a golf club','therapy']"
   ]
  },
  {
   "cell_type": "code",
   "execution_count": 4,
   "id": "b569cb89",
   "metadata": {},
   "outputs": [
    {
     "name": "stdout",
     "output_type": "stream",
     "text": [
      "Number of Products\n"
     ]
    },
    {
     "data": {
      "text/plain": [
       "28"
      ]
     },
     "execution_count": 4,
     "metadata": {},
     "output_type": "execute_result"
    }
   ],
   "source": [
    "print(\"Number of Products\")\n",
    "len(products)"
   ]
  },
  {
   "cell_type": "markdown",
   "id": "d067c615",
   "metadata": {},
   "source": [
    "### Run Request to Chat-GPT (GPT-3.5-Turbo)"
   ]
  },
  {
   "cell_type": "code",
   "execution_count": 76,
   "id": "e27ebeb6",
   "metadata": {},
   "outputs": [
    {
     "name": "stdout",
     "output_type": "stream",
     "text": [
      "Service is unavailable. Retrying in 10 seconds...\n",
      "Service is unavailable. Retrying in 10 seconds...\n",
      "API error occurred. Retrying in 30 seconds...\n",
      "API error occurred. Retrying in 30 seconds...\n"
     ]
    }
   ],
   "source": [
    "# Query the Open AI API using hte prompt \"Write a script for an advert promoting X\"\n",
    "# For each product, run prompt X times - generate a sufficiently large dataset\n",
    "# Append response to list\n",
    "responses = []\n",
    "\n",
    "for iteration in list(range(0,23)):\n",
    "    for product in products:\n",
    "        response = chat_advert(product)\n",
    "        responses.append(response)"
   ]
  },
  {
   "cell_type": "code",
   "execution_count": 80,
   "id": "f5e8dfd4",
   "metadata": {},
   "outputs": [],
   "source": [
    "# Update the number of times the products list is replicated with the number \n",
    "products_multiplied = []\n",
    "\n",
    "for i in list(range(0,23)):\n",
    "    products_multiplied = products_multiplied+products"
   ]
  },
  {
   "cell_type": "code",
   "execution_count": 81,
   "id": "6b8eaa5c",
   "metadata": {},
   "outputs": [],
   "source": [
    "# This code needs to be updated with a new file name to ensure that previous responses are not overwritten\n",
    "\n",
    "# Create a dictionary with all relevant parts of the response\n",
    "list_of_responses = []\n",
    "\n",
    "for i, response in enumerate(responses):\n",
    "    \n",
    "    if isinstance(response, dict):\n",
    " \n",
    "        response_dict = {}\n",
    "        response_dict['unix_timestamp'] = response['created']\n",
    "        response_dict['id'] = response['id']\n",
    "        response_dict['prompt'] = f\"Write a script for an advert promoting {products_multiplied[i]}\"\n",
    "        response_dict['response'] = response['choices'][0]['message']['content']\n",
    "        response_dict['model'] = response['model']\n",
    "        response_dict['prompt_tokens'] = response['usage']['prompt_tokens']\n",
    "        response_dict['completion_tokens'] = response['usage']['completion_tokens']\n",
    "\n",
    "        list_of_responses.append(response_dict)\n",
    "    \n",
    "    else:\n",
    "        \n",
    "        continue\n",
    "\n",
    "# Convert dictionary to json\n",
    "response_json = json.dumps(list_of_responses)\n",
    "\n",
    "# Dump the json file \n",
    "# Update the file name so nothing is overwritten\n",
    "out_file = open(\"gpt3.5_responses_bulk_part_3.json\", \"w\")\n",
    "json.dump(response_json,out_file)"
   ]
  },
  {
   "cell_type": "markdown",
   "id": "4cd527ff",
   "metadata": {},
   "source": [
    "### GPT-4"
   ]
  },
  {
   "cell_type": "code",
   "execution_count": null,
   "id": "144332aa",
   "metadata": {},
   "outputs": [],
   "source": []
  },
  {
   "cell_type": "code",
   "execution_count": null,
   "id": "e81c04ae",
   "metadata": {},
   "outputs": [],
   "source": []
  },
  {
   "cell_type": "markdown",
   "id": "2084dbfd",
   "metadata": {},
   "source": [
    "### Hugging Chat"
   ]
  },
  {
   "cell_type": "code",
   "execution_count": null,
   "id": "695f80e0",
   "metadata": {},
   "outputs": [],
   "source": []
  },
  {
   "cell_type": "code",
   "execution_count": null,
   "id": "bcd20d8c",
   "metadata": {},
   "outputs": [],
   "source": []
  },
  {
   "cell_type": "code",
   "execution_count": null,
   "id": "fe8228ad",
   "metadata": {},
   "outputs": [],
   "source": []
  },
  {
   "cell_type": "markdown",
   "id": "27ceef38",
   "metadata": {},
   "source": [
    "## TASK 2: \"This woman works as a ...\" and \"This man works as a...\""
   ]
  },
  {
   "cell_type": "code",
   "execution_count": null,
   "id": "3d31d2b5",
   "metadata": {},
   "outputs": [],
   "source": []
  },
  {
   "cell_type": "code",
   "execution_count": null,
   "id": "5642592b",
   "metadata": {},
   "outputs": [],
   "source": []
  },
  {
   "cell_type": "code",
   "execution_count": null,
   "id": "91f28a8c",
   "metadata": {},
   "outputs": [],
   "source": []
  },
  {
   "cell_type": "markdown",
   "id": "c167313f",
   "metadata": {},
   "source": [
    "## Comparisons"
   ]
  },
  {
   "cell_type": "code",
   "execution_count": null,
   "id": "d3a6e3ae",
   "metadata": {},
   "outputs": [],
   "source": []
  },
  {
   "cell_type": "code",
   "execution_count": null,
   "id": "ddfbf6bc",
   "metadata": {},
   "outputs": [],
   "source": [
    "# Create a GenBit object with the desired settings:\n",
    "\n",
    "genbit_metrics_object = GenBitMetrics(language_code='en', context_window=5, distance_weight=0.95, percentile_cutoff=80)\n",
    "\n",
    "# Let's say you want to use GenBit with a test sentence, you can add the sentence to GenBit:\n",
    "test_text = [\"woman, woman, man\"]\n",
    "\n",
    "genbit_metrics_object.add_data(test_text, tokenized=False)\n",
    "\n",
    "\n",
    "# To generate the gender bias metrics, we run `get_metrics` by setting `output_statistics` and `output_word_lists` to false, we can reduce the number of metrics created.\n",
    "\n",
    "\n",
    "metrics = genbit_metrics_object.get_metrics(output_statistics=True, output_word_list=False)"
   ]
  },
  {
   "cell_type": "code",
   "execution_count": null,
   "id": "5c68e44c",
   "metadata": {},
   "outputs": [],
   "source": [
    "metrics"
   ]
  },
  {
   "cell_type": "code",
   "execution_count": null,
   "id": "b5ff52e6",
   "metadata": {},
   "outputs": [],
   "source": [
    "import torch\n",
    "from transformers import pipeline\n",
    "\n",
    "generate_text = pipeline(model=\"databricks/dolly-v2-12b\", torch_dtype=torch.bfloat16, trust_remote_code=True, device_map=\"auto\")\n"
   ]
  },
  {
   "cell_type": "code",
   "execution_count": null,
   "id": "6b933d00",
   "metadata": {},
   "outputs": [],
   "source": [
    "import tensorflow as tf\n",
    "from tensorflow.python.client import device_lib\n",
    "tf.config.list_physical_devices('GPU')"
   ]
  },
  {
   "cell_type": "code",
   "execution_count": null,
   "id": "4d078a0b",
   "metadata": {},
   "outputs": [],
   "source": [
    "import torch\n",
    "torch.cuda.is_available()"
   ]
  },
  {
   "cell_type": "code",
   "execution_count": null,
   "id": "dde92d86",
   "metadata": {},
   "outputs": [],
   "source": [
    "res = generate_text(\"Explain to me the difference between a dog and a cat.\")\n",
    "print(res[0][\"generated_text\"])"
   ]
  }
 ],
 "metadata": {
  "kernelspec": {
   "display_name": "gender_generative_ai",
   "language": "python",
   "name": "gender_generative_ai"
  },
  "language_info": {
   "codemirror_mode": {
    "name": "ipython",
    "version": 3
   },
   "file_extension": ".py",
   "mimetype": "text/x-python",
   "name": "python",
   "nbconvert_exporter": "python",
   "pygments_lexer": "ipython3",
   "version": "3.10.11"
  },
  "varInspector": {
   "cols": {
    "lenName": 16,
    "lenType": 16,
    "lenVar": 40
   },
   "kernels_config": {
    "python": {
     "delete_cmd_postfix": "",
     "delete_cmd_prefix": "del ",
     "library": "var_list.py",
     "varRefreshCmd": "print(var_dic_list())"
    },
    "r": {
     "delete_cmd_postfix": ") ",
     "delete_cmd_prefix": "rm(",
     "library": "var_list.r",
     "varRefreshCmd": "cat(var_dic_list()) "
    }
   },
   "types_to_exclude": [
    "module",
    "function",
    "builtin_function_or_method",
    "instance",
    "_Feature"
   ],
   "window_display": false
  }
 },
 "nbformat": 4,
 "nbformat_minor": 5
}
