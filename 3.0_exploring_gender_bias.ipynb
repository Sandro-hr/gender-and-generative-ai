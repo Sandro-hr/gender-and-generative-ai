{
 "cells": [
  {
   "cell_type": "markdown",
   "id": "77d89755",
   "metadata": {},
   "source": [
    "## Import Libraries"
   ]
  },
  {
   "cell_type": "code",
   "execution_count": null,
   "id": "db70ab13",
   "metadata": {},
   "outputs": [],
   "source": [
    "import pandas as pd\n",
    "import numpy as np\n",
    "import math\n",
    "import pandas_bokeh\n",
    "import plotly.express as px\n",
    "import scipy"
   ]
  },
  {
   "cell_type": "code",
   "execution_count": null,
   "id": "777b0253",
   "metadata": {},
   "outputs": [],
   "source": [
    "pd.set_option('display.max_columns', None)"
   ]
  },
  {
   "cell_type": "code",
   "execution_count": null,
   "id": "d6de5b2a",
   "metadata": {},
   "outputs": [],
   "source": [
    "pandas_bokeh.output_notebook()"
   ]
  },
  {
   "cell_type": "markdown",
   "id": "4412db99",
   "metadata": {},
   "source": [
    "## Import Data"
   ]
  },
  {
   "cell_type": "code",
   "execution_count": null,
   "id": "f556f668",
   "metadata": {},
   "outputs": [],
   "source": [
    "# Import the metrics calculated in 2.0_using_genbit_to_measure_bias.ipynb\n",
    "product_metrics = pd.read_csv(\"data/genbit_metrics/product_level_metrics_v2.csv\")\n",
    "word_metrics = pd.read_csv(\"data/genbit_metrics/word_level_metrics_v2.csv\")"
   ]
  },
  {
   "cell_type": "markdown",
   "id": "7af3bd79",
   "metadata": {},
   "source": [
    "## Preview Dataframes"
   ]
  },
  {
   "cell_type": "code",
   "execution_count": null,
   "id": "90690f37",
   "metadata": {},
   "outputs": [],
   "source": [
    "product_metrics.head()"
   ]
  },
  {
   "cell_type": "code",
   "execution_count": null,
   "id": "6a476628",
   "metadata": {},
   "outputs": [],
   "source": [
    "word_metrics.head()"
   ]
  },
  {
   "cell_type": "markdown",
   "id": "ab9ece11",
   "metadata": {},
   "source": [
    "## Top 5 Products/Models by Female %, Male % and Non-Binary %"
   ]
  },
  {
   "cell_type": "code",
   "execution_count": null,
   "id": "660a1e4f",
   "metadata": {},
   "outputs": [],
   "source": [
    "product_metrics.sort_values(by=[\"percentage_of_female_gender_definition_words\"], ascending=False)[0:10]"
   ]
  },
  {
   "cell_type": "code",
   "execution_count": null,
   "id": "934fc70b",
   "metadata": {},
   "outputs": [],
   "source": [
    "product_metrics.sort_values(by=[\"percentage_of_male_gender_definition_words\"], ascending=False)[0:10]"
   ]
  },
  {
   "cell_type": "code",
   "execution_count": null,
   "id": "f23902f2",
   "metadata": {},
   "outputs": [],
   "source": [
    "product_metrics.sort_values(by=[\"percentage_of_non_binary_gender_definition_words\"], ascending=False)[0:10]"
   ]
  },
  {
   "cell_type": "code",
   "execution_count": null,
   "id": "c9dca01b-2d6f-4005-bbd1-7955bc64bad2",
   "metadata": {},
   "outputs": [],
   "source": [
    "product_metrics[(product_metrics['model']=='gpt-4-0613') & (product_metrics['genbit_score']>1.5)]"
   ]
  },
  {
   "cell_type": "markdown",
   "id": "794b4817",
   "metadata": {},
   "source": [
    "## Plot Overall Statistics by Model"
   ]
  },
  {
   "cell_type": "markdown",
   "id": "b2d42ed3-0339-4194-a7e6-ceed3c67548b",
   "metadata": {},
   "source": [
    "### Distribution of Genbit Scores"
   ]
  },
  {
   "cell_type": "code",
   "execution_count": null,
   "id": "7b5c6c96-2e1d-4283-974a-6749cf627e2d",
   "metadata": {},
   "outputs": [],
   "source": [
    "fig = px.box(product_metrics, x=\"model\", y = \"genbit_score\", points=\"all\", hover_data=[\"product\"], \n",
    "             title=\"Distribution of Genbit Score by Model\", category_orders={'model':['Bard - PaLM','gpt-3.5-turbo-0301','gpt-4-0613']}, \n",
    "             height=600, width=1000, color='model',color_discrete_sequence=[\"#CE0099\",\"#8854FC\",\"#00CEC3\"])\n",
    "\n",
    "fig.update_layout(font=dict(size=18))\n",
    "\n",
    "fig.show()"
   ]
  },
  {
   "cell_type": "markdown",
   "id": "a00e5f79-1e32-447c-b4cc-c6a8145646c4",
   "metadata": {},
   "source": [
    "### Female v Male Words"
   ]
  },
  {
   "cell_type": "code",
   "execution_count": null,
   "id": "ca9db6bf",
   "metadata": {},
   "outputs": [],
   "source": [
    "female_words = product_metrics.pivot(index=\"product\",columns=\"model\",values=\"percentage_of_female_gender_definition_words\").sort_values(by=[\"Bard - PaLM\"],ascending=False)\n",
    "male_words = product_metrics.pivot(index=\"product\",columns=\"model\",values=\"percentage_of_male_gender_definition_words\").sort_values(by=[\"Bard - PaLM\"],ascending=False)\n",
    "non_binary_words = product_metrics.pivot(index=\"product\",columns=\"model\",values=\"percentage_of_non_binary_gender_definition_words\").sort_values(by=[\"Bard - PaLM\"],ascending=False)"
   ]
  },
  {
   "cell_type": "code",
   "execution_count": null,
   "id": "f2bae4d5",
   "metadata": {},
   "outputs": [],
   "source": [
    "#Pandas_Bokeh requires a patch to function:\n",
    "#https://github.com/PatrikHlobil/Pandas-Bokeh/issues/128#issuecomment-1535794247\n",
    "\n"
   ]
  },
  {
   "cell_type": "code",
   "execution_count": null,
   "id": "59bd9dcf",
   "metadata": {},
   "outputs": [],
   "source": [
    "import pandas\n",
    "import pandas_bokeh\n",
    "\n",
    "female_plot = female_words[0:10].sort_values(by=[\"gpt-3.5-turbo-0301\"],ascending=True).plot_bokeh.barh(\n",
    "                          y=[\"Bard - PaLM\",\"gpt-3.5-turbo-0301\",\"gpt-4-0613\"],\n",
    "                        xlabel=\"Percentage of Female Definition Words\",ylabel=\"Product\", \n",
    "                        title=\"Percentage of Female Words\",\n",
    "                        figsize=(500,500),\n",
    "                        colormap = [\"#00CEC3\",\"#8854FC\",\"#CE0099\"],\n",
    "                        legend = \"bottom_right\",\n",
    "                        fontsize_label=\"10pt\",\n",
    "                        fontsize_ticks=\"10pt\",\n",
    "                        fontsize_title=\"12pt\",\n",
    "                        show_figure=False\n",
    "                          )"
   ]
  },
  {
   "cell_type": "code",
   "execution_count": null,
   "id": "88f13132-eddf-401a-aec1-19a814960521",
   "metadata": {},
   "outputs": [],
   "source": [
    "male_plot = male_words[0:10].sort_values(by=[\"gpt-3.5-turbo-0301\"],ascending=True).plot_bokeh.barh(\n",
    "                          y=[\"Bard - PaLM\",\"gpt-3.5-turbo-0301\",\"gpt-4-0613\"],\n",
    "                        xlabel=\"Percentage of Male Definition Words\",ylabel=\"Product\", \n",
    "                        title=\"Percentage of Male Words\",\n",
    "                        figsize=(500,500),\n",
    "                        colormap = [\"#00CEC3\",\"#8854FC\",\"#CE0099\"],\n",
    "                        legend = \"bottom_right\",\n",
    "                        fontsize_label=\"10pt\",\n",
    "                        fontsize_ticks=\"10pt\",\n",
    "                        fontsize_title=\"12pt\",\n",
    "                        show_figure=False\n",
    "                          )"
   ]
  },
  {
   "cell_type": "code",
   "execution_count": null,
   "id": "61db3e6b",
   "metadata": {},
   "outputs": [],
   "source": [
    "non_binary_plot = non_binary_words[0:10].sort_values(by=[\"Bard - PaLM\"],ascending=True).plot_bokeh.barh(\n",
    "                          y=[\"Bard - PaLM\",\"gpt-3.5-turbo-0301\",\"gpt-4-0613\"],\n",
    "                        xlabel=\"Percentage of Non-Binary Definition Words\",ylabel=\"Product\", \n",
    "                        title=\"Percentage of Non-Binary Words\",\n",
    "                        figsize=(500,500),\n",
    "                        colormap = [\"#00CEC3\",\"#8854FC\",\"#CE0099\"],\n",
    "                        legend = \"bottom_right\",\n",
    "                        fontsize_label=\"10pt\",\n",
    "                        fontsize_ticks=\"10pt\",\n",
    "                        fontsize_title=\"12pt\",\n",
    "                        show_figure=False\n",
    "                          )"
   ]
  },
  {
   "cell_type": "code",
   "execution_count": null,
   "id": "4e6cd2c0",
   "metadata": {},
   "outputs": [],
   "source": [
    "pandas_bokeh.plot_grid([[female_plot,male_plot]])"
   ]
  },
  {
   "cell_type": "code",
   "execution_count": null,
   "id": "698bcba6",
   "metadata": {},
   "outputs": [],
   "source": [
    "pandas_bokeh.plot_grid([[male_plot,non_binary_plot]])"
   ]
  }
 ],
 "metadata": {
  "kernelspec": {
   "display_name": "Python 3",
   "language": "python",
   "name": "python3"
  },
  "language_info": {
   "codemirror_mode": {
    "name": "ipython",
    "version": 3
   },
   "file_extension": ".py",
   "mimetype": "text/x-python",
   "name": "python",
   "nbconvert_exporter": "python",
   "pygments_lexer": "ipython3",
   "version": "3.11.9"
  },
  "varInspector": {
   "cols": {
    "lenName": 16,
    "lenType": 16,
    "lenVar": 40
   },
   "kernels_config": {
    "python": {
     "delete_cmd_postfix": "",
     "delete_cmd_prefix": "del ",
     "library": "var_list.py",
     "varRefreshCmd": "print(var_dic_list())"
    },
    "r": {
     "delete_cmd_postfix": ") ",
     "delete_cmd_prefix": "rm(",
     "library": "var_list.r",
     "varRefreshCmd": "cat(var_dic_list()) "
    }
   },
   "types_to_exclude": [
    "module",
    "function",
    "builtin_function_or_method",
    "instance",
    "_Feature"
   ],
   "window_display": false
  }
 },
 "nbformat": 4,
 "nbformat_minor": 5
}
