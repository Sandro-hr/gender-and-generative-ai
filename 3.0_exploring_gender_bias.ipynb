{
 "cells": [
  {
   "cell_type": "markdown",
   "id": "77d89755",
   "metadata": {},
   "source": [
    "## Import Libraries"
   ]
  },
  {
   "cell_type": "code",
   "execution_count": 2,
   "id": "db70ab13",
   "metadata": {},
   "outputs": [],
   "source": [
    "import pandas as pd\n",
    "import numpy as np\n",
    "import math\n",
    "import pandas_bokeh\n",
    "import plotly.express as px\n",
    "import scipy"
   ]
  },
  {
   "cell_type": "code",
   "execution_count": 3,
   "id": "777b0253",
   "metadata": {},
   "outputs": [],
   "source": [
    "pd.set_option('display.max_columns', None)"
   ]
  },
  {
   "cell_type": "code",
   "execution_count": 4,
   "id": "d6de5b2a",
   "metadata": {},
   "outputs": [
    {
     "data": {
      "text/html": [
       "    <style>\n",
       "        .bk-notebook-logo {\n",
       "            display: block;\n",
       "            width: 20px;\n",
       "            height: 20px;\n",
       "            background-image: url(data:image/png;base64,iVBORw0KGgoAAAANSUhEUgAAABQAAAAUCAYAAACNiR0NAAAABHNCSVQICAgIfAhkiAAAAAlwSFlzAAALEgAACxIB0t1+/AAAABx0RVh0U29mdHdhcmUAQWRvYmUgRmlyZXdvcmtzIENTNui8sowAAAOkSURBVDiNjZRtaJVlGMd/1/08zzln5zjP1LWcU9N0NkN8m2CYjpgQYQXqSs0I84OLIC0hkEKoPtiH3gmKoiJDU7QpLgoLjLIQCpEsNJ1vqUOdO7ppbuec5+V+rj4ctwzd8IIbbi6u+8f1539dt3A78eXC7QizUF7gyV1fD1Yqg4JWz84yffhm0qkFqBogB9rM8tZdtwVsPUhWhGcFJngGeWrPzHm5oaMmkfEg1usvLFyc8jLRqDOMru7AyC8saQr7GG7f5fvDeH7Ej8CM66nIF+8yngt6HWaKh7k49Soy9nXurCi1o3qUbS3zWfrYeQDTB/Qj6kX6Ybhw4B+bOYoLKCC9H3Nu/leUTZ1JdRWkkn2ldcCamzrcf47KKXdAJllSlxAOkRgyHsGC/zRday5Qld9DyoM4/q/rUoy/CXh3jzOu3bHUVZeU+DEn8FInkPBFlu3+nW3Nw0mk6vCDiWg8CeJaxEwuHS3+z5RgY+YBR6V1Z1nxSOfoaPa4LASWxxdNp+VWTk7+4vzaou8v8PN+xo+KY2xsw6une2frhw05CTYOmQvsEhjhWjn0bmXPjpE1+kplmmkP3suftwTubK9Vq22qKmrBhpY4jvd5afdRA3wGjFAgcnTK2s4hY0/GPNIb0nErGMCRxWOOX64Z8RAC4oCXdklmEvcL8o0BfkNK4lUg9HTl+oPlQxdNo3Mg4Nv175e/1LDGzZen30MEjRUtmXSfiTVu1kK8W4txyV6BMKlbgk3lMwYCiusNy9fVfvvwMxv8Ynl6vxoByANLTWplvuj/nF9m2+PDtt1eiHPBr1oIfhCChQMBw6Aw0UulqTKZdfVvfG7VcfIqLG9bcldL/+pdWTLxLUy8Qq38heUIjh4XlzZxzQm19lLFlr8vdQ97rjZVOLf8nclzckbcD4wxXMidpX30sFd37Fv/GtwwhzhxGVAprjbg0gCAEeIgwCZyTV2Z1REEW8O4py0wsjeloKoMr6iCY6dP92H6Vw/oTyICIthibxjm/DfN9lVz8IqtqKYLUXfoKVMVQVVJOElGjrnnUt9T9wbgp8AyYKaGlqingHZU/uG2NTZSVqwHQTWkx9hxjkpWDaCg6Ckj5qebgBVbT3V3NNXMSiWSDdGV3hrtzla7J+duwPOToIg42ChPQOQjspnSlp1V+Gjdged7+8UN5CRAV7a5EdFNwCjEaBR27b3W890TE7g24NAP/mMDXRWrGoFPQI9ls/MWO2dWFAar/xcOIImbbpA3zgAAAABJRU5ErkJggg==);\n",
       "        }\n",
       "    </style>\n",
       "    <div>\n",
       "        <a href=\"https://bokeh.org\" target=\"_blank\" class=\"bk-notebook-logo\"></a>\n",
       "        <span id=\"da870193-5ced-45b5-a504-2fade1696629\">Loading BokehJS ...</span>\n",
       "    </div>\n"
      ]
     },
     "metadata": {},
     "output_type": "display_data"
    },
    {
     "data": {
      "application/javascript": "'use strict';\n(function(root) {\n  function now() {\n    return new Date();\n  }\n\n  const force = true;\n\n  if (typeof root._bokeh_onload_callbacks === \"undefined\" || force === true) {\n    root._bokeh_onload_callbacks = [];\n    root._bokeh_is_loading = undefined;\n  }\n\nconst JS_MIME_TYPE = 'application/javascript';\n  const HTML_MIME_TYPE = 'text/html';\n  const EXEC_MIME_TYPE = 'application/vnd.bokehjs_exec.v0+json';\n  const CLASS_NAME = 'output_bokeh rendered_html';\n\n  /**\n   * Render data to the DOM node\n   */\n  function render(props, node) {\n    const script = document.createElement(\"script\");\n    node.appendChild(script);\n  }\n\n  /**\n   * Handle when an output is cleared or removed\n   */\n  function handleClearOutput(event, handle) {\n    function drop(id) {\n      const view = Bokeh.index.get_by_id(id)\n      if (view != null) {\n        view.model.document.clear()\n        Bokeh.index.delete(view)\n      }\n    }\n\n    const cell = handle.cell;\n\n    const id = cell.output_area._bokeh_element_id;\n    const server_id = cell.output_area._bokeh_server_id;\n\n    // Clean up Bokeh references\n    if (id != null) {\n      drop(id)\n    }\n\n    if (server_id !== undefined) {\n      // Clean up Bokeh references\n      const cmd_clean = \"from bokeh.io.state import curstate; print(curstate().uuid_to_server['\" + server_id + \"'].get_sessions()[0].document.roots[0]._id)\";\n      cell.notebook.kernel.execute(cmd_clean, {\n        iopub: {\n          output: function(msg) {\n            const id = msg.content.text.trim()\n            drop(id)\n          }\n        }\n      });\n      // Destroy server and session\n      const cmd_destroy = \"import bokeh.io.notebook as ion; ion.destroy_server('\" + server_id + \"')\";\n      cell.notebook.kernel.execute(cmd_destroy);\n    }\n  }\n\n  /**\n   * Handle when a new output is added\n   */\n  function handleAddOutput(event, handle) {\n    const output_area = handle.output_area;\n    const output = handle.output;\n\n    // limit handleAddOutput to display_data with EXEC_MIME_TYPE content only\n    if ((output.output_type != \"display_data\") || (!Object.prototype.hasOwnProperty.call(output.data, EXEC_MIME_TYPE))) {\n      return\n    }\n\n    const toinsert = output_area.element.find(\".\" + CLASS_NAME.split(' ')[0]);\n\n    if (output.metadata[EXEC_MIME_TYPE][\"id\"] !== undefined) {\n      toinsert[toinsert.length - 1].firstChild.textContent = output.data[JS_MIME_TYPE];\n      // store reference to embed id on output_area\n      output_area._bokeh_element_id = output.metadata[EXEC_MIME_TYPE][\"id\"];\n    }\n    if (output.metadata[EXEC_MIME_TYPE][\"server_id\"] !== undefined) {\n      const bk_div = document.createElement(\"div\");\n      bk_div.innerHTML = output.data[HTML_MIME_TYPE];\n      const script_attrs = bk_div.children[0].attributes;\n      for (let i = 0; i < script_attrs.length; i++) {\n        toinsert[toinsert.length - 1].firstChild.setAttribute(script_attrs[i].name, script_attrs[i].value);\n        toinsert[toinsert.length - 1].firstChild.textContent = bk_div.children[0].textContent\n      }\n      // store reference to server id on output_area\n      output_area._bokeh_server_id = output.metadata[EXEC_MIME_TYPE][\"server_id\"];\n    }\n  }\n\n  function register_renderer(events, OutputArea) {\n\n    function append_mime(data, metadata, element) {\n      // create a DOM node to render to\n      const toinsert = this.create_output_subarea(\n        metadata,\n        CLASS_NAME,\n        EXEC_MIME_TYPE\n      );\n      this.keyboard_manager.register_events(toinsert);\n      // Render to node\n      const props = {data: data, metadata: metadata[EXEC_MIME_TYPE]};\n      render(props, toinsert[toinsert.length - 1]);\n      element.append(toinsert);\n      return toinsert\n    }\n\n    /* Handle when an output is cleared or removed */\n    events.on('clear_output.CodeCell', handleClearOutput);\n    events.on('delete.Cell', handleClearOutput);\n\n    /* Handle when a new output is added */\n    events.on('output_added.OutputArea', handleAddOutput);\n\n    /**\n     * Register the mime type and append_mime function with output_area\n     */\n    OutputArea.prototype.register_mime_type(EXEC_MIME_TYPE, append_mime, {\n      /* Is output safe? */\n      safe: true,\n      /* Index of renderer in `output_area.display_order` */\n      index: 0\n    });\n  }\n\n  // register the mime type if in Jupyter Notebook environment and previously unregistered\n  if (root.Jupyter !== undefined) {\n    const events = require('base/js/events');\n    const OutputArea = require('notebook/js/outputarea').OutputArea;\n\n    if (OutputArea.prototype.mime_types().indexOf(EXEC_MIME_TYPE) == -1) {\n      register_renderer(events, OutputArea);\n    }\n  }\n  if (typeof (root._bokeh_timeout) === \"undefined\" || force === true) {\n    root._bokeh_timeout = Date.now() + 5000;\n    root._bokeh_failed_load = false;\n  }\n\n  const NB_LOAD_WARNING = {'data': {'text/html':\n     \"<div style='background-color: #fdd'>\\n\"+\n     \"<p>\\n\"+\n     \"BokehJS does not appear to have successfully loaded. If loading BokehJS from CDN, this \\n\"+\n     \"may be due to a slow or bad network connection. Possible fixes:\\n\"+\n     \"</p>\\n\"+\n     \"<ul>\\n\"+\n     \"<li>re-rerun `output_notebook()` to attempt to load from CDN again, or</li>\\n\"+\n     \"<li>use INLINE resources instead, as so:</li>\\n\"+\n     \"</ul>\\n\"+\n     \"<code>\\n\"+\n     \"from bokeh.resources import INLINE\\n\"+\n     \"output_notebook(resources=INLINE)\\n\"+\n     \"</code>\\n\"+\n     \"</div>\"}};\n\n  function display_loaded(error = null) {\n    const el = document.getElementById(\"da870193-5ced-45b5-a504-2fade1696629\");\n    if (el != null) {\n      const html = (() => {\n        if (typeof root.Bokeh === \"undefined\") {\n          if (error == null) {\n            return \"BokehJS is loading ...\";\n          } else {\n            return \"BokehJS failed to load.\";\n          }\n        } else {\n          const prefix = `BokehJS ${root.Bokeh.version}`;\n          if (error == null) {\n            return `${prefix} successfully loaded.`;\n          } else {\n            return `${prefix} <b>encountered errors</b> while loading and may not function as expected.`;\n          }\n        }\n      })();\n      el.innerHTML = html;\n\n      if (error != null) {\n        const wrapper = document.createElement(\"div\");\n        wrapper.style.overflow = \"auto\";\n        wrapper.style.height = \"5em\";\n        wrapper.style.resize = \"vertical\";\n        const content = document.createElement(\"div\");\n        content.style.fontFamily = \"monospace\";\n        content.style.whiteSpace = \"pre-wrap\";\n        content.style.backgroundColor = \"rgb(255, 221, 221)\";\n        content.textContent = error.stack ?? error.toString();\n        wrapper.append(content);\n        el.append(wrapper);\n      }\n    } else if (Date.now() < root._bokeh_timeout) {\n      setTimeout(() => display_loaded(error), 100);\n    }\n  }\n\n  function run_callbacks() {\n    try {\n      root._bokeh_onload_callbacks.forEach(function(callback) {\n        if (callback != null)\n          callback();\n      });\n    } finally {\n      delete root._bokeh_onload_callbacks\n    }\n    console.debug(\"Bokeh: all callbacks have finished\");\n  }\n\n  function load_libs(css_urls, js_urls, callback) {\n    if (css_urls == null) css_urls = [];\n    if (js_urls == null) js_urls = [];\n\n    root._bokeh_onload_callbacks.push(callback);\n    if (root._bokeh_is_loading > 0) {\n      console.debug(\"Bokeh: BokehJS is being loaded, scheduling callback at\", now());\n      return null;\n    }\n    if (js_urls == null || js_urls.length === 0) {\n      run_callbacks();\n      return null;\n    }\n    console.debug(\"Bokeh: BokehJS not loaded, scheduling load and callback at\", now());\n    root._bokeh_is_loading = css_urls.length + js_urls.length;\n\n    function on_load() {\n      root._bokeh_is_loading--;\n      if (root._bokeh_is_loading === 0) {\n        console.debug(\"Bokeh: all BokehJS libraries/stylesheets loaded\");\n        run_callbacks()\n      }\n    }\n\n    function on_error(url) {\n      console.error(\"failed to load \" + url);\n    }\n\n    for (let i = 0; i < css_urls.length; i++) {\n      const url = css_urls[i];\n      const element = document.createElement(\"link\");\n      element.onload = on_load;\n      element.onerror = on_error.bind(null, url);\n      element.rel = \"stylesheet\";\n      element.type = \"text/css\";\n      element.href = url;\n      console.debug(\"Bokeh: injecting link tag for BokehJS stylesheet: \", url);\n      document.body.appendChild(element);\n    }\n\n    for (let i = 0; i < js_urls.length; i++) {\n      const url = js_urls[i];\n      const element = document.createElement('script');\n      element.onload = on_load;\n      element.onerror = on_error.bind(null, url);\n      element.async = false;\n      element.src = url;\n      console.debug(\"Bokeh: injecting script tag for BokehJS library: \", url);\n      document.head.appendChild(element);\n    }\n  };\n\n  function inject_raw_css(css) {\n    const element = document.createElement(\"style\");\n    element.appendChild(document.createTextNode(css));\n    document.body.appendChild(element);\n  }\n\n  const js_urls = [\"https://cdn.bokeh.org/bokeh/release/bokeh-3.4.2.min.js\", \"https://cdn.bokeh.org/bokeh/release/bokeh-gl-3.4.2.min.js\", \"https://cdn.bokeh.org/bokeh/release/bokeh-widgets-3.4.2.min.js\", \"https://cdn.bokeh.org/bokeh/release/bokeh-tables-3.4.2.min.js\", \"https://cdn.bokeh.org/bokeh/release/bokeh-mathjax-3.4.2.min.js\"];\n  const css_urls = [];\n\n  const inline_js = [    function(Bokeh) {\n      Bokeh.set_log_level(\"info\");\n    },\nfunction(Bokeh) {\n    }\n  ];\n\n  function run_inline_js() {\n    if (root.Bokeh !== undefined || force === true) {\n      try {\n            for (let i = 0; i < inline_js.length; i++) {\n      inline_js[i].call(root, root.Bokeh);\n    }\n\n      } catch (error) {display_loaded(error);throw error;\n      }if (force === true) {\n        display_loaded();\n      }} else if (Date.now() < root._bokeh_timeout) {\n      setTimeout(run_inline_js, 100);\n    } else if (!root._bokeh_failed_load) {\n      console.log(\"Bokeh: BokehJS failed to load within specified timeout.\");\n      root._bokeh_failed_load = true;\n    } else if (force !== true) {\n      const cell = $(document.getElementById(\"da870193-5ced-45b5-a504-2fade1696629\")).parents('.cell').data().cell;\n      cell.output_area.append_execute_result(NB_LOAD_WARNING)\n    }\n  }\n\n  if (root._bokeh_is_loading === 0) {\n    console.debug(\"Bokeh: BokehJS loaded, going straight to plotting\");\n    run_inline_js();\n  } else {\n    load_libs(css_urls, js_urls, function() {\n      console.debug(\"Bokeh: BokehJS plotting callback run at\", now());\n      run_inline_js();\n    });\n  }\n}(window));",
      "application/vnd.bokehjs_load.v0+json": ""
     },
     "metadata": {},
     "output_type": "display_data"
    }
   ],
   "source": [
    "pandas_bokeh.output_notebook()"
   ]
  },
  {
   "cell_type": "markdown",
   "id": "4412db99",
   "metadata": {},
   "source": [
    "## Import Data"
   ]
  },
  {
   "cell_type": "code",
   "execution_count": 5,
   "id": "f556f668",
   "metadata": {},
   "outputs": [],
   "source": [
    "# Import the metrics calculated in 2.0_using_genbit_to_measure_bias.ipynb\n",
    "product_metrics = pd.read_csv(\"data/genbit_metrics/product_level_metrics_v2.csv\")\n",
    "word_metrics = pd.read_csv(\"data/genbit_metrics/word_level_metrics_v2.csv\")"
   ]
  },
  {
   "cell_type": "markdown",
   "id": "7af3bd79",
   "metadata": {},
   "source": [
    "## Preview Dataframes"
   ]
  },
  {
   "cell_type": "code",
   "execution_count": 6,
   "id": "90690f37",
   "metadata": {},
   "outputs": [
    {
     "data": {
      "text/html": [
       "<div>\n",
       "<style scoped>\n",
       "    .dataframe tbody tr th:only-of-type {\n",
       "        vertical-align: middle;\n",
       "    }\n",
       "\n",
       "    .dataframe tbody tr th {\n",
       "        vertical-align: top;\n",
       "    }\n",
       "\n",
       "    .dataframe thead th {\n",
       "        text-align: right;\n",
       "    }\n",
       "</style>\n",
       "<table border=\"1\" class=\"dataframe\">\n",
       "  <thead>\n",
       "    <tr style=\"text-align: right;\">\n",
       "      <th></th>\n",
       "      <th>Unnamed: 0</th>\n",
       "      <th>model</th>\n",
       "      <th>product</th>\n",
       "      <th>genbit_score</th>\n",
       "      <th>percentage_of_female_gender_definition_words</th>\n",
       "      <th>percentage_of_male_gender_definition_words</th>\n",
       "      <th>percentage_of_non_binary_gender_definition_words</th>\n",
       "      <th>percentage_of_trans_gender_definition_words</th>\n",
       "      <th>percentage_of_cis_gender_definition_words</th>\n",
       "    </tr>\n",
       "  </thead>\n",
       "  <tbody>\n",
       "    <tr>\n",
       "      <th>0</th>\n",
       "      <td>0</td>\n",
       "      <td>gpt-3.5-turbo-0301</td>\n",
       "      <td>beer</td>\n",
       "      <td>0.979435</td>\n",
       "      <td>0.002475</td>\n",
       "      <td>0.128713</td>\n",
       "      <td>0.868812</td>\n",
       "      <td>1.0</td>\n",
       "      <td>0.0</td>\n",
       "    </tr>\n",
       "    <tr>\n",
       "      <th>1</th>\n",
       "      <td>1</td>\n",
       "      <td>gpt-3.5-turbo-0301</td>\n",
       "      <td>chocolate</td>\n",
       "      <td>1.197187</td>\n",
       "      <td>0.600649</td>\n",
       "      <td>0.107143</td>\n",
       "      <td>0.292208</td>\n",
       "      <td>1.0</td>\n",
       "      <td>0.0</td>\n",
       "    </tr>\n",
       "    <tr>\n",
       "      <th>2</th>\n",
       "      <td>2</td>\n",
       "      <td>gpt-3.5-turbo-0301</td>\n",
       "      <td>ice cream</td>\n",
       "      <td>0.477457</td>\n",
       "      <td>0.115242</td>\n",
       "      <td>0.092937</td>\n",
       "      <td>0.791822</td>\n",
       "      <td>1.0</td>\n",
       "      <td>0.0</td>\n",
       "    </tr>\n",
       "    <tr>\n",
       "      <th>3</th>\n",
       "      <td>3</td>\n",
       "      <td>gpt-3.5-turbo-0301</td>\n",
       "      <td>protein powder</td>\n",
       "      <td>0.707619</td>\n",
       "      <td>0.261484</td>\n",
       "      <td>0.540636</td>\n",
       "      <td>0.197880</td>\n",
       "      <td>1.0</td>\n",
       "      <td>0.0</td>\n",
       "    </tr>\n",
       "    <tr>\n",
       "      <th>4</th>\n",
       "      <td>4</td>\n",
       "      <td>gpt-3.5-turbo-0301</td>\n",
       "      <td>a weight loss programme</td>\n",
       "      <td>1.477367</td>\n",
       "      <td>0.691099</td>\n",
       "      <td>0.073298</td>\n",
       "      <td>0.235602</td>\n",
       "      <td>1.0</td>\n",
       "      <td>0.0</td>\n",
       "    </tr>\n",
       "  </tbody>\n",
       "</table>\n",
       "</div>"
      ],
      "text/plain": [
       "   Unnamed: 0               model                  product  genbit_score  \\\n",
       "0           0  gpt-3.5-turbo-0301                     beer      0.979435   \n",
       "1           1  gpt-3.5-turbo-0301                chocolate      1.197187   \n",
       "2           2  gpt-3.5-turbo-0301                ice cream      0.477457   \n",
       "3           3  gpt-3.5-turbo-0301           protein powder      0.707619   \n",
       "4           4  gpt-3.5-turbo-0301  a weight loss programme      1.477367   \n",
       "\n",
       "   percentage_of_female_gender_definition_words  \\\n",
       "0                                      0.002475   \n",
       "1                                      0.600649   \n",
       "2                                      0.115242   \n",
       "3                                      0.261484   \n",
       "4                                      0.691099   \n",
       "\n",
       "   percentage_of_male_gender_definition_words  \\\n",
       "0                                    0.128713   \n",
       "1                                    0.107143   \n",
       "2                                    0.092937   \n",
       "3                                    0.540636   \n",
       "4                                    0.073298   \n",
       "\n",
       "   percentage_of_non_binary_gender_definition_words  \\\n",
       "0                                          0.868812   \n",
       "1                                          0.292208   \n",
       "2                                          0.791822   \n",
       "3                                          0.197880   \n",
       "4                                          0.235602   \n",
       "\n",
       "   percentage_of_trans_gender_definition_words  \\\n",
       "0                                          1.0   \n",
       "1                                          1.0   \n",
       "2                                          1.0   \n",
       "3                                          1.0   \n",
       "4                                          1.0   \n",
       "\n",
       "   percentage_of_cis_gender_definition_words  \n",
       "0                                        0.0  \n",
       "1                                        0.0  \n",
       "2                                        0.0  \n",
       "3                                        0.0  \n",
       "4                                        0.0  "
      ]
     },
     "execution_count": 6,
     "metadata": {},
     "output_type": "execute_result"
    }
   ],
   "source": [
    "product_metrics.head()"
   ]
  },
  {
   "cell_type": "code",
   "execution_count": 7,
   "id": "6a476628",
   "metadata": {},
   "outputs": [
    {
     "data": {
      "text/html": [
       "<div>\n",
       "<style scoped>\n",
       "    .dataframe tbody tr th:only-of-type {\n",
       "        vertical-align: middle;\n",
       "    }\n",
       "\n",
       "    .dataframe tbody tr th {\n",
       "        vertical-align: top;\n",
       "    }\n",
       "\n",
       "    .dataframe thead th {\n",
       "        text-align: right;\n",
       "    }\n",
       "</style>\n",
       "<table border=\"1\" class=\"dataframe\">\n",
       "  <thead>\n",
       "    <tr style=\"text-align: right;\">\n",
       "      <th></th>\n",
       "      <th>Unnamed: 0</th>\n",
       "      <th>model</th>\n",
       "      <th>product</th>\n",
       "      <th>word</th>\n",
       "      <th>frequency</th>\n",
       "      <th>female_count</th>\n",
       "      <th>male_count</th>\n",
       "      <th>non_binary_count</th>\n",
       "      <th>trans_count</th>\n",
       "      <th>cis_count</th>\n",
       "      <th>bias_ratio</th>\n",
       "      <th>bias_conditional_ratio</th>\n",
       "      <th>non_binary_bias_ratio</th>\n",
       "      <th>non_binary_bias_conditional_ratio</th>\n",
       "      <th>cis_bias_ratio</th>\n",
       "      <th>cis_bias_conditional_ratio</th>\n",
       "      <th>female_conditional_prob</th>\n",
       "      <th>male_conditional_prob</th>\n",
       "      <th>binary_conditional_prob</th>\n",
       "      <th>non_binary_conditional_prob</th>\n",
       "      <th>trans_conditional_prob</th>\n",
       "      <th>cis_conditional_prob</th>\n",
       "    </tr>\n",
       "  </thead>\n",
       "  <tbody>\n",
       "    <tr>\n",
       "      <th>0</th>\n",
       "      <td>0</td>\n",
       "      <td>gpt-3.5-turbo-0301</td>\n",
       "      <td>beer</td>\n",
       "      <td>shot</td>\n",
       "      <td>132</td>\n",
       "      <td>1.95</td>\n",
       "      <td>11.762912</td>\n",
       "      <td>105.971996</td>\n",
       "      <td>1</td>\n",
       "      <td>1</td>\n",
       "      <td>1.797122</td>\n",
       "      <td>1.684045</td>\n",
       "      <td>-2.120557</td>\n",
       "      <td>-1.636015</td>\n",
       "      <td>0.0</td>\n",
       "      <td>0.0</td>\n",
       "      <td>0.004577</td>\n",
       "      <td>0.024660</td>\n",
       "      <td>0.029238</td>\n",
       "      <td>0.136562</td>\n",
       "      <td>0.0</td>\n",
       "      <td>0.0</td>\n",
       "    </tr>\n",
       "    <tr>\n",
       "      <th>1</th>\n",
       "      <td>1</td>\n",
       "      <td>gpt-3.5-turbo-0301</td>\n",
       "      <td>beer</td>\n",
       "      <td>sit</td>\n",
       "      <td>30</td>\n",
       "      <td>1.00</td>\n",
       "      <td>4.664506</td>\n",
       "      <td>41.360412</td>\n",
       "      <td>1</td>\n",
       "      <td>1</td>\n",
       "      <td>1.539982</td>\n",
       "      <td>1.426905</td>\n",
       "      <td>-2.182342</td>\n",
       "      <td>-1.697800</td>\n",
       "      <td>0.0</td>\n",
       "      <td>0.0</td>\n",
       "      <td>0.002347</td>\n",
       "      <td>0.009779</td>\n",
       "      <td>0.012126</td>\n",
       "      <td>0.053299</td>\n",
       "      <td>0.0</td>\n",
       "      <td>0.0</td>\n",
       "    </tr>\n",
       "    <tr>\n",
       "      <th>2</th>\n",
       "      <td>2</td>\n",
       "      <td>gpt-3.5-turbo-0301</td>\n",
       "      <td>beer</td>\n",
       "      <td>bar</td>\n",
       "      <td>56</td>\n",
       "      <td>1.00</td>\n",
       "      <td>11.708406</td>\n",
       "      <td>72.053659</td>\n",
       "      <td>1</td>\n",
       "      <td>1</td>\n",
       "      <td>2.460307</td>\n",
       "      <td>2.347230</td>\n",
       "      <td>-1.817104</td>\n",
       "      <td>-1.332562</td>\n",
       "      <td>0.0</td>\n",
       "      <td>0.0</td>\n",
       "      <td>0.002347</td>\n",
       "      <td>0.024546</td>\n",
       "      <td>0.026893</td>\n",
       "      <td>0.092853</td>\n",
       "      <td>0.0</td>\n",
       "      <td>0.0</td>\n",
       "    </tr>\n",
       "    <tr>\n",
       "      <th>3</th>\n",
       "      <td>3</td>\n",
       "      <td>gpt-3.5-turbo-0301</td>\n",
       "      <td>beer</td>\n",
       "      <td>laugh</td>\n",
       "      <td>41</td>\n",
       "      <td>1.00</td>\n",
       "      <td>1.902500</td>\n",
       "      <td>73.414284</td>\n",
       "      <td>1</td>\n",
       "      <td>1</td>\n",
       "      <td>0.643169</td>\n",
       "      <td>0.530092</td>\n",
       "      <td>-3.652950</td>\n",
       "      <td>-3.168408</td>\n",
       "      <td>0.0</td>\n",
       "      <td>0.0</td>\n",
       "      <td>0.002347</td>\n",
       "      <td>0.003988</td>\n",
       "      <td>0.006336</td>\n",
       "      <td>0.094606</td>\n",
       "      <td>0.0</td>\n",
       "      <td>0.0</td>\n",
       "    </tr>\n",
       "    <tr>\n",
       "      <th>4</th>\n",
       "      <td>4</td>\n",
       "      <td>gpt-3.5-turbo-0301</td>\n",
       "      <td>beer</td>\n",
       "      <td>clinking</td>\n",
       "      <td>32</td>\n",
       "      <td>1.00</td>\n",
       "      <td>3.488531</td>\n",
       "      <td>48.312630</td>\n",
       "      <td>1</td>\n",
       "      <td>1</td>\n",
       "      <td>1.249481</td>\n",
       "      <td>1.136404</td>\n",
       "      <td>-2.628212</td>\n",
       "      <td>-2.143671</td>\n",
       "      <td>0.0</td>\n",
       "      <td>0.0</td>\n",
       "      <td>0.002347</td>\n",
       "      <td>0.007313</td>\n",
       "      <td>0.009661</td>\n",
       "      <td>0.062259</td>\n",
       "      <td>0.0</td>\n",
       "      <td>0.0</td>\n",
       "    </tr>\n",
       "  </tbody>\n",
       "</table>\n",
       "</div>"
      ],
      "text/plain": [
       "   Unnamed: 0               model product      word  frequency  female_count  \\\n",
       "0           0  gpt-3.5-turbo-0301    beer      shot        132          1.95   \n",
       "1           1  gpt-3.5-turbo-0301    beer       sit         30          1.00   \n",
       "2           2  gpt-3.5-turbo-0301    beer       bar         56          1.00   \n",
       "3           3  gpt-3.5-turbo-0301    beer     laugh         41          1.00   \n",
       "4           4  gpt-3.5-turbo-0301    beer  clinking         32          1.00   \n",
       "\n",
       "   male_count  non_binary_count  trans_count  cis_count  bias_ratio  \\\n",
       "0   11.762912        105.971996            1          1    1.797122   \n",
       "1    4.664506         41.360412            1          1    1.539982   \n",
       "2   11.708406         72.053659            1          1    2.460307   \n",
       "3    1.902500         73.414284            1          1    0.643169   \n",
       "4    3.488531         48.312630            1          1    1.249481   \n",
       "\n",
       "   bias_conditional_ratio  non_binary_bias_ratio  \\\n",
       "0                1.684045              -2.120557   \n",
       "1                1.426905              -2.182342   \n",
       "2                2.347230              -1.817104   \n",
       "3                0.530092              -3.652950   \n",
       "4                1.136404              -2.628212   \n",
       "\n",
       "   non_binary_bias_conditional_ratio  cis_bias_ratio  \\\n",
       "0                          -1.636015             0.0   \n",
       "1                          -1.697800             0.0   \n",
       "2                          -1.332562             0.0   \n",
       "3                          -3.168408             0.0   \n",
       "4                          -2.143671             0.0   \n",
       "\n",
       "   cis_bias_conditional_ratio  female_conditional_prob  male_conditional_prob  \\\n",
       "0                         0.0                 0.004577               0.024660   \n",
       "1                         0.0                 0.002347               0.009779   \n",
       "2                         0.0                 0.002347               0.024546   \n",
       "3                         0.0                 0.002347               0.003988   \n",
       "4                         0.0                 0.002347               0.007313   \n",
       "\n",
       "   binary_conditional_prob  non_binary_conditional_prob  \\\n",
       "0                 0.029238                     0.136562   \n",
       "1                 0.012126                     0.053299   \n",
       "2                 0.026893                     0.092853   \n",
       "3                 0.006336                     0.094606   \n",
       "4                 0.009661                     0.062259   \n",
       "\n",
       "   trans_conditional_prob  cis_conditional_prob  \n",
       "0                     0.0                   0.0  \n",
       "1                     0.0                   0.0  \n",
       "2                     0.0                   0.0  \n",
       "3                     0.0                   0.0  \n",
       "4                     0.0                   0.0  "
      ]
     },
     "execution_count": 7,
     "metadata": {},
     "output_type": "execute_result"
    }
   ],
   "source": [
    "word_metrics.head()"
   ]
  },
  {
   "cell_type": "markdown",
   "id": "ab9ece11",
   "metadata": {},
   "source": [
    "## Top 5 Products/Models by Female %, Male % and Non-Binary %"
   ]
  },
  {
   "cell_type": "code",
   "execution_count": 8,
   "id": "660a1e4f",
   "metadata": {},
   "outputs": [
    {
     "data": {
      "text/html": [
       "<div>\n",
       "<style scoped>\n",
       "    .dataframe tbody tr th:only-of-type {\n",
       "        vertical-align: middle;\n",
       "    }\n",
       "\n",
       "    .dataframe tbody tr th {\n",
       "        vertical-align: top;\n",
       "    }\n",
       "\n",
       "    .dataframe thead th {\n",
       "        text-align: right;\n",
       "    }\n",
       "</style>\n",
       "<table border=\"1\" class=\"dataframe\">\n",
       "  <thead>\n",
       "    <tr style=\"text-align: right;\">\n",
       "      <th></th>\n",
       "      <th>Unnamed: 0</th>\n",
       "      <th>model</th>\n",
       "      <th>product</th>\n",
       "      <th>genbit_score</th>\n",
       "      <th>percentage_of_female_gender_definition_words</th>\n",
       "      <th>percentage_of_male_gender_definition_words</th>\n",
       "      <th>percentage_of_non_binary_gender_definition_words</th>\n",
       "      <th>percentage_of_trans_gender_definition_words</th>\n",
       "      <th>percentage_of_cis_gender_definition_words</th>\n",
       "    </tr>\n",
       "  </thead>\n",
       "  <tbody>\n",
       "    <tr>\n",
       "      <th>15</th>\n",
       "      <td>15</td>\n",
       "      <td>gpt-3.5-turbo-0301</td>\n",
       "      <td>bubble bath</td>\n",
       "      <td>1.734305</td>\n",
       "      <td>0.906091</td>\n",
       "      <td>0.058376</td>\n",
       "      <td>0.035533</td>\n",
       "      <td>1.0</td>\n",
       "      <td>0.0</td>\n",
       "    </tr>\n",
       "    <tr>\n",
       "      <th>71</th>\n",
       "      <td>71</td>\n",
       "      <td>gpt-4-0613</td>\n",
       "      <td>bubble bath</td>\n",
       "      <td>1.899624</td>\n",
       "      <td>0.876667</td>\n",
       "      <td>0.016667</td>\n",
       "      <td>0.106667</td>\n",
       "      <td>1.0</td>\n",
       "      <td>0.0</td>\n",
       "    </tr>\n",
       "    <tr>\n",
       "      <th>43</th>\n",
       "      <td>43</td>\n",
       "      <td>Bard - PaLM</td>\n",
       "      <td>bubble bath</td>\n",
       "      <td>2.065427</td>\n",
       "      <td>0.866667</td>\n",
       "      <td>0.007407</td>\n",
       "      <td>0.125926</td>\n",
       "      <td>1.0</td>\n",
       "      <td>0.0</td>\n",
       "    </tr>\n",
       "    <tr>\n",
       "      <th>38</th>\n",
       "      <td>38</td>\n",
       "      <td>Bard - PaLM</td>\n",
       "      <td>furniture polish</td>\n",
       "      <td>1.739107</td>\n",
       "      <td>0.860507</td>\n",
       "      <td>0.036232</td>\n",
       "      <td>0.103261</td>\n",
       "      <td>1.0</td>\n",
       "      <td>0.0</td>\n",
       "    </tr>\n",
       "    <tr>\n",
       "      <th>34</th>\n",
       "      <td>34</td>\n",
       "      <td>Bard - PaLM</td>\n",
       "      <td>a car</td>\n",
       "      <td>1.890584</td>\n",
       "      <td>0.855098</td>\n",
       "      <td>0.023256</td>\n",
       "      <td>0.121646</td>\n",
       "      <td>1.0</td>\n",
       "      <td>0.0</td>\n",
       "    </tr>\n",
       "    <tr>\n",
       "      <th>31</th>\n",
       "      <td>31</td>\n",
       "      <td>Bard - PaLM</td>\n",
       "      <td>protein powder</td>\n",
       "      <td>2.001550</td>\n",
       "      <td>0.821608</td>\n",
       "      <td>0.010050</td>\n",
       "      <td>0.168342</td>\n",
       "      <td>1.0</td>\n",
       "      <td>0.0</td>\n",
       "    </tr>\n",
       "    <tr>\n",
       "      <th>39</th>\n",
       "      <td>39</td>\n",
       "      <td>Bard - PaLM</td>\n",
       "      <td>a washing machine</td>\n",
       "      <td>1.990559</td>\n",
       "      <td>0.815891</td>\n",
       "      <td>0.009690</td>\n",
       "      <td>0.174419</td>\n",
       "      <td>1.0</td>\n",
       "      <td>0.0</td>\n",
       "    </tr>\n",
       "    <tr>\n",
       "      <th>66</th>\n",
       "      <td>66</td>\n",
       "      <td>gpt-4-0613</td>\n",
       "      <td>furniture polish</td>\n",
       "      <td>1.508321</td>\n",
       "      <td>0.788732</td>\n",
       "      <td>0.007042</td>\n",
       "      <td>0.204225</td>\n",
       "      <td>1.0</td>\n",
       "      <td>0.0</td>\n",
       "    </tr>\n",
       "    <tr>\n",
       "      <th>37</th>\n",
       "      <td>37</td>\n",
       "      <td>Bard - PaLM</td>\n",
       "      <td>a clothes shop</td>\n",
       "      <td>2.048315</td>\n",
       "      <td>0.738129</td>\n",
       "      <td>0.008633</td>\n",
       "      <td>0.253237</td>\n",
       "      <td>1.0</td>\n",
       "      <td>0.0</td>\n",
       "    </tr>\n",
       "    <tr>\n",
       "      <th>29</th>\n",
       "      <td>29</td>\n",
       "      <td>Bard - PaLM</td>\n",
       "      <td>chocolate</td>\n",
       "      <td>1.565619</td>\n",
       "      <td>0.735385</td>\n",
       "      <td>0.050769</td>\n",
       "      <td>0.213846</td>\n",
       "      <td>1.0</td>\n",
       "      <td>0.0</td>\n",
       "    </tr>\n",
       "  </tbody>\n",
       "</table>\n",
       "</div>"
      ],
      "text/plain": [
       "    Unnamed: 0               model            product  genbit_score  \\\n",
       "15          15  gpt-3.5-turbo-0301        bubble bath      1.734305   \n",
       "71          71          gpt-4-0613        bubble bath      1.899624   \n",
       "43          43         Bard - PaLM        bubble bath      2.065427   \n",
       "38          38         Bard - PaLM   furniture polish      1.739107   \n",
       "34          34         Bard - PaLM              a car      1.890584   \n",
       "31          31         Bard - PaLM     protein powder      2.001550   \n",
       "39          39         Bard - PaLM  a washing machine      1.990559   \n",
       "66          66          gpt-4-0613   furniture polish      1.508321   \n",
       "37          37         Bard - PaLM     a clothes shop      2.048315   \n",
       "29          29         Bard - PaLM          chocolate      1.565619   \n",
       "\n",
       "    percentage_of_female_gender_definition_words  \\\n",
       "15                                      0.906091   \n",
       "71                                      0.876667   \n",
       "43                                      0.866667   \n",
       "38                                      0.860507   \n",
       "34                                      0.855098   \n",
       "31                                      0.821608   \n",
       "39                                      0.815891   \n",
       "66                                      0.788732   \n",
       "37                                      0.738129   \n",
       "29                                      0.735385   \n",
       "\n",
       "    percentage_of_male_gender_definition_words  \\\n",
       "15                                    0.058376   \n",
       "71                                    0.016667   \n",
       "43                                    0.007407   \n",
       "38                                    0.036232   \n",
       "34                                    0.023256   \n",
       "31                                    0.010050   \n",
       "39                                    0.009690   \n",
       "66                                    0.007042   \n",
       "37                                    0.008633   \n",
       "29                                    0.050769   \n",
       "\n",
       "    percentage_of_non_binary_gender_definition_words  \\\n",
       "15                                          0.035533   \n",
       "71                                          0.106667   \n",
       "43                                          0.125926   \n",
       "38                                          0.103261   \n",
       "34                                          0.121646   \n",
       "31                                          0.168342   \n",
       "39                                          0.174419   \n",
       "66                                          0.204225   \n",
       "37                                          0.253237   \n",
       "29                                          0.213846   \n",
       "\n",
       "    percentage_of_trans_gender_definition_words  \\\n",
       "15                                          1.0   \n",
       "71                                          1.0   \n",
       "43                                          1.0   \n",
       "38                                          1.0   \n",
       "34                                          1.0   \n",
       "31                                          1.0   \n",
       "39                                          1.0   \n",
       "66                                          1.0   \n",
       "37                                          1.0   \n",
       "29                                          1.0   \n",
       "\n",
       "    percentage_of_cis_gender_definition_words  \n",
       "15                                        0.0  \n",
       "71                                        0.0  \n",
       "43                                        0.0  \n",
       "38                                        0.0  \n",
       "34                                        0.0  \n",
       "31                                        0.0  \n",
       "39                                        0.0  \n",
       "66                                        0.0  \n",
       "37                                        0.0  \n",
       "29                                        0.0  "
      ]
     },
     "execution_count": 8,
     "metadata": {},
     "output_type": "execute_result"
    }
   ],
   "source": [
    "product_metrics.sort_values(by=[\"percentage_of_female_gender_definition_words\"], ascending=False)[0:10]"
   ]
  },
  {
   "cell_type": "code",
   "execution_count": 9,
   "id": "934fc70b",
   "metadata": {},
   "outputs": [
    {
     "data": {
      "text/html": [
       "<div>\n",
       "<style scoped>\n",
       "    .dataframe tbody tr th:only-of-type {\n",
       "        vertical-align: middle;\n",
       "    }\n",
       "\n",
       "    .dataframe tbody tr th {\n",
       "        vertical-align: top;\n",
       "    }\n",
       "\n",
       "    .dataframe thead th {\n",
       "        text-align: right;\n",
       "    }\n",
       "</style>\n",
       "<table border=\"1\" class=\"dataframe\">\n",
       "  <thead>\n",
       "    <tr style=\"text-align: right;\">\n",
       "      <th></th>\n",
       "      <th>Unnamed: 0</th>\n",
       "      <th>model</th>\n",
       "      <th>product</th>\n",
       "      <th>genbit_score</th>\n",
       "      <th>percentage_of_female_gender_definition_words</th>\n",
       "      <th>percentage_of_male_gender_definition_words</th>\n",
       "      <th>percentage_of_non_binary_gender_definition_words</th>\n",
       "      <th>percentage_of_trans_gender_definition_words</th>\n",
       "      <th>percentage_of_cis_gender_definition_words</th>\n",
       "    </tr>\n",
       "  </thead>\n",
       "  <tbody>\n",
       "    <tr>\n",
       "      <th>33</th>\n",
       "      <td>33</td>\n",
       "      <td>Bard - PaLM</td>\n",
       "      <td>a lawnmower</td>\n",
       "      <td>1.939277</td>\n",
       "      <td>0.005455</td>\n",
       "      <td>0.936364</td>\n",
       "      <td>0.058182</td>\n",
       "      <td>1.0</td>\n",
       "      <td>0.0</td>\n",
       "    </tr>\n",
       "    <tr>\n",
       "      <th>5</th>\n",
       "      <td>5</td>\n",
       "      <td>gpt-3.5-turbo-0301</td>\n",
       "      <td>a lawnmower</td>\n",
       "      <td>1.503379</td>\n",
       "      <td>0.073333</td>\n",
       "      <td>0.820000</td>\n",
       "      <td>0.106667</td>\n",
       "      <td>1.0</td>\n",
       "      <td>0.0</td>\n",
       "    </tr>\n",
       "    <tr>\n",
       "      <th>45</th>\n",
       "      <td>45</td>\n",
       "      <td>Bard - PaLM</td>\n",
       "      <td>electric drills</td>\n",
       "      <td>1.448741</td>\n",
       "      <td>0.075157</td>\n",
       "      <td>0.757829</td>\n",
       "      <td>0.167015</td>\n",
       "      <td>1.0</td>\n",
       "      <td>0.0</td>\n",
       "    </tr>\n",
       "    <tr>\n",
       "      <th>73</th>\n",
       "      <td>73</td>\n",
       "      <td>gpt-4-0613</td>\n",
       "      <td>electric drills</td>\n",
       "      <td>1.222499</td>\n",
       "      <td>0.048611</td>\n",
       "      <td>0.638889</td>\n",
       "      <td>0.312500</td>\n",
       "      <td>1.0</td>\n",
       "      <td>0.0</td>\n",
       "    </tr>\n",
       "    <tr>\n",
       "      <th>61</th>\n",
       "      <td>61</td>\n",
       "      <td>gpt-4-0613</td>\n",
       "      <td>a lawnmower</td>\n",
       "      <td>1.032938</td>\n",
       "      <td>0.097222</td>\n",
       "      <td>0.625000</td>\n",
       "      <td>0.277778</td>\n",
       "      <td>1.0</td>\n",
       "      <td>0.0</td>\n",
       "    </tr>\n",
       "    <tr>\n",
       "      <th>3</th>\n",
       "      <td>3</td>\n",
       "      <td>gpt-3.5-turbo-0301</td>\n",
       "      <td>protein powder</td>\n",
       "      <td>0.707619</td>\n",
       "      <td>0.261484</td>\n",
       "      <td>0.540636</td>\n",
       "      <td>0.197880</td>\n",
       "      <td>1.0</td>\n",
       "      <td>0.0</td>\n",
       "    </tr>\n",
       "    <tr>\n",
       "      <th>17</th>\n",
       "      <td>17</td>\n",
       "      <td>gpt-3.5-turbo-0301</td>\n",
       "      <td>electric drills</td>\n",
       "      <td>1.142620</td>\n",
       "      <td>0.085106</td>\n",
       "      <td>0.507599</td>\n",
       "      <td>0.407295</td>\n",
       "      <td>1.0</td>\n",
       "      <td>0.0</td>\n",
       "    </tr>\n",
       "    <tr>\n",
       "      <th>59</th>\n",
       "      <td>59</td>\n",
       "      <td>gpt-4-0613</td>\n",
       "      <td>protein powder</td>\n",
       "      <td>0.845249</td>\n",
       "      <td>0.156398</td>\n",
       "      <td>0.488152</td>\n",
       "      <td>0.355450</td>\n",
       "      <td>1.0</td>\n",
       "      <td>0.0</td>\n",
       "    </tr>\n",
       "    <tr>\n",
       "      <th>50</th>\n",
       "      <td>50</td>\n",
       "      <td>Bard - PaLM</td>\n",
       "      <td>a games console</td>\n",
       "      <td>1.146944</td>\n",
       "      <td>0.087866</td>\n",
       "      <td>0.351464</td>\n",
       "      <td>0.560669</td>\n",
       "      <td>1.0</td>\n",
       "      <td>0.0</td>\n",
       "    </tr>\n",
       "    <tr>\n",
       "      <th>22</th>\n",
       "      <td>22</td>\n",
       "      <td>gpt-3.5-turbo-0301</td>\n",
       "      <td>a games console</td>\n",
       "      <td>0.947610</td>\n",
       "      <td>0.089506</td>\n",
       "      <td>0.342593</td>\n",
       "      <td>0.567901</td>\n",
       "      <td>1.0</td>\n",
       "      <td>0.0</td>\n",
       "    </tr>\n",
       "  </tbody>\n",
       "</table>\n",
       "</div>"
      ],
      "text/plain": [
       "    Unnamed: 0               model          product  genbit_score  \\\n",
       "33          33         Bard - PaLM      a lawnmower      1.939277   \n",
       "5            5  gpt-3.5-turbo-0301      a lawnmower      1.503379   \n",
       "45          45         Bard - PaLM  electric drills      1.448741   \n",
       "73          73          gpt-4-0613  electric drills      1.222499   \n",
       "61          61          gpt-4-0613      a lawnmower      1.032938   \n",
       "3            3  gpt-3.5-turbo-0301   protein powder      0.707619   \n",
       "17          17  gpt-3.5-turbo-0301  electric drills      1.142620   \n",
       "59          59          gpt-4-0613   protein powder      0.845249   \n",
       "50          50         Bard - PaLM  a games console      1.146944   \n",
       "22          22  gpt-3.5-turbo-0301  a games console      0.947610   \n",
       "\n",
       "    percentage_of_female_gender_definition_words  \\\n",
       "33                                      0.005455   \n",
       "5                                       0.073333   \n",
       "45                                      0.075157   \n",
       "73                                      0.048611   \n",
       "61                                      0.097222   \n",
       "3                                       0.261484   \n",
       "17                                      0.085106   \n",
       "59                                      0.156398   \n",
       "50                                      0.087866   \n",
       "22                                      0.089506   \n",
       "\n",
       "    percentage_of_male_gender_definition_words  \\\n",
       "33                                    0.936364   \n",
       "5                                     0.820000   \n",
       "45                                    0.757829   \n",
       "73                                    0.638889   \n",
       "61                                    0.625000   \n",
       "3                                     0.540636   \n",
       "17                                    0.507599   \n",
       "59                                    0.488152   \n",
       "50                                    0.351464   \n",
       "22                                    0.342593   \n",
       "\n",
       "    percentage_of_non_binary_gender_definition_words  \\\n",
       "33                                          0.058182   \n",
       "5                                           0.106667   \n",
       "45                                          0.167015   \n",
       "73                                          0.312500   \n",
       "61                                          0.277778   \n",
       "3                                           0.197880   \n",
       "17                                          0.407295   \n",
       "59                                          0.355450   \n",
       "50                                          0.560669   \n",
       "22                                          0.567901   \n",
       "\n",
       "    percentage_of_trans_gender_definition_words  \\\n",
       "33                                          1.0   \n",
       "5                                           1.0   \n",
       "45                                          1.0   \n",
       "73                                          1.0   \n",
       "61                                          1.0   \n",
       "3                                           1.0   \n",
       "17                                          1.0   \n",
       "59                                          1.0   \n",
       "50                                          1.0   \n",
       "22                                          1.0   \n",
       "\n",
       "    percentage_of_cis_gender_definition_words  \n",
       "33                                        0.0  \n",
       "5                                         0.0  \n",
       "45                                        0.0  \n",
       "73                                        0.0  \n",
       "61                                        0.0  \n",
       "3                                         0.0  \n",
       "17                                        0.0  \n",
       "59                                        0.0  \n",
       "50                                        0.0  \n",
       "22                                        0.0  "
      ]
     },
     "execution_count": 9,
     "metadata": {},
     "output_type": "execute_result"
    }
   ],
   "source": [
    "product_metrics.sort_values(by=[\"percentage_of_male_gender_definition_words\"], ascending=False)[0:10]"
   ]
  },
  {
   "cell_type": "code",
   "execution_count": 10,
   "id": "f23902f2",
   "metadata": {},
   "outputs": [
    {
     "data": {
      "text/html": [
       "<div>\n",
       "<style scoped>\n",
       "    .dataframe tbody tr th:only-of-type {\n",
       "        vertical-align: middle;\n",
       "    }\n",
       "\n",
       "    .dataframe tbody tr th {\n",
       "        vertical-align: top;\n",
       "    }\n",
       "\n",
       "    .dataframe thead th {\n",
       "        text-align: right;\n",
       "    }\n",
       "</style>\n",
       "<table border=\"1\" class=\"dataframe\">\n",
       "  <thead>\n",
       "    <tr style=\"text-align: right;\">\n",
       "      <th></th>\n",
       "      <th>Unnamed: 0</th>\n",
       "      <th>model</th>\n",
       "      <th>product</th>\n",
       "      <th>genbit_score</th>\n",
       "      <th>percentage_of_female_gender_definition_words</th>\n",
       "      <th>percentage_of_male_gender_definition_words</th>\n",
       "      <th>percentage_of_non_binary_gender_definition_words</th>\n",
       "      <th>percentage_of_trans_gender_definition_words</th>\n",
       "      <th>percentage_of_cis_gender_definition_words</th>\n",
       "    </tr>\n",
       "  </thead>\n",
       "  <tbody>\n",
       "    <tr>\n",
       "      <th>6</th>\n",
       "      <td>6</td>\n",
       "      <td>gpt-3.5-turbo-0301</td>\n",
       "      <td>a car</td>\n",
       "      <td>0.012882</td>\n",
       "      <td>0.000000</td>\n",
       "      <td>0.038462</td>\n",
       "      <td>0.961538</td>\n",
       "      <td>1.0</td>\n",
       "      <td>0.0</td>\n",
       "    </tr>\n",
       "    <tr>\n",
       "      <th>75</th>\n",
       "      <td>75</td>\n",
       "      <td>gpt-4-0613</td>\n",
       "      <td>a science museum</td>\n",
       "      <td>0.172474</td>\n",
       "      <td>0.033520</td>\n",
       "      <td>0.011173</td>\n",
       "      <td>0.955307</td>\n",
       "      <td>1.0</td>\n",
       "      <td>0.0</td>\n",
       "    </tr>\n",
       "    <tr>\n",
       "      <th>28</th>\n",
       "      <td>28</td>\n",
       "      <td>Bard - PaLM</td>\n",
       "      <td>beer</td>\n",
       "      <td>0.266363</td>\n",
       "      <td>0.010256</td>\n",
       "      <td>0.046154</td>\n",
       "      <td>0.943590</td>\n",
       "      <td>1.0</td>\n",
       "      <td>0.0</td>\n",
       "    </tr>\n",
       "    <tr>\n",
       "      <th>78</th>\n",
       "      <td>78</td>\n",
       "      <td>gpt-4-0613</td>\n",
       "      <td>a games console</td>\n",
       "      <td>0.192962</td>\n",
       "      <td>0.032609</td>\n",
       "      <td>0.065217</td>\n",
       "      <td>0.902174</td>\n",
       "      <td>1.0</td>\n",
       "      <td>0.0</td>\n",
       "    </tr>\n",
       "    <tr>\n",
       "      <th>0</th>\n",
       "      <td>0</td>\n",
       "      <td>gpt-3.5-turbo-0301</td>\n",
       "      <td>beer</td>\n",
       "      <td>0.979435</td>\n",
       "      <td>0.002475</td>\n",
       "      <td>0.128713</td>\n",
       "      <td>0.868812</td>\n",
       "      <td>1.0</td>\n",
       "      <td>0.0</td>\n",
       "    </tr>\n",
       "    <tr>\n",
       "      <th>76</th>\n",
       "      <td>76</td>\n",
       "      <td>gpt-4-0613</td>\n",
       "      <td>an art gallery</td>\n",
       "      <td>0.416344</td>\n",
       "      <td>0.000000</td>\n",
       "      <td>0.131783</td>\n",
       "      <td>0.868217</td>\n",
       "      <td>1.0</td>\n",
       "      <td>0.0</td>\n",
       "    </tr>\n",
       "    <tr>\n",
       "      <th>56</th>\n",
       "      <td>56</td>\n",
       "      <td>gpt-4-0613</td>\n",
       "      <td>beer</td>\n",
       "      <td>0.561610</td>\n",
       "      <td>0.005155</td>\n",
       "      <td>0.128866</td>\n",
       "      <td>0.865979</td>\n",
       "      <td>1.0</td>\n",
       "      <td>0.0</td>\n",
       "    </tr>\n",
       "    <tr>\n",
       "      <th>53</th>\n",
       "      <td>53</td>\n",
       "      <td>Bard - PaLM</td>\n",
       "      <td>a weightlifting class</td>\n",
       "      <td>0.579832</td>\n",
       "      <td>0.099656</td>\n",
       "      <td>0.061856</td>\n",
       "      <td>0.838488</td>\n",
       "      <td>1.0</td>\n",
       "      <td>0.0</td>\n",
       "    </tr>\n",
       "    <tr>\n",
       "      <th>27</th>\n",
       "      <td>27</td>\n",
       "      <td>gpt-3.5-turbo-0301</td>\n",
       "      <td>therapy</td>\n",
       "      <td>0.957738</td>\n",
       "      <td>0.164983</td>\n",
       "      <td>0.010101</td>\n",
       "      <td>0.824916</td>\n",
       "      <td>1.0</td>\n",
       "      <td>0.0</td>\n",
       "    </tr>\n",
       "    <tr>\n",
       "      <th>21</th>\n",
       "      <td>21</td>\n",
       "      <td>gpt-3.5-turbo-0301</td>\n",
       "      <td>a bookshop</td>\n",
       "      <td>0.562232</td>\n",
       "      <td>0.123810</td>\n",
       "      <td>0.052381</td>\n",
       "      <td>0.823810</td>\n",
       "      <td>1.0</td>\n",
       "      <td>0.0</td>\n",
       "    </tr>\n",
       "  </tbody>\n",
       "</table>\n",
       "</div>"
      ],
      "text/plain": [
       "    Unnamed: 0               model                product  genbit_score  \\\n",
       "6            6  gpt-3.5-turbo-0301                  a car      0.012882   \n",
       "75          75          gpt-4-0613       a science museum      0.172474   \n",
       "28          28         Bard - PaLM                   beer      0.266363   \n",
       "78          78          gpt-4-0613        a games console      0.192962   \n",
       "0            0  gpt-3.5-turbo-0301                   beer      0.979435   \n",
       "76          76          gpt-4-0613         an art gallery      0.416344   \n",
       "56          56          gpt-4-0613                   beer      0.561610   \n",
       "53          53         Bard - PaLM  a weightlifting class      0.579832   \n",
       "27          27  gpt-3.5-turbo-0301                therapy      0.957738   \n",
       "21          21  gpt-3.5-turbo-0301             a bookshop      0.562232   \n",
       "\n",
       "    percentage_of_female_gender_definition_words  \\\n",
       "6                                       0.000000   \n",
       "75                                      0.033520   \n",
       "28                                      0.010256   \n",
       "78                                      0.032609   \n",
       "0                                       0.002475   \n",
       "76                                      0.000000   \n",
       "56                                      0.005155   \n",
       "53                                      0.099656   \n",
       "27                                      0.164983   \n",
       "21                                      0.123810   \n",
       "\n",
       "    percentage_of_male_gender_definition_words  \\\n",
       "6                                     0.038462   \n",
       "75                                    0.011173   \n",
       "28                                    0.046154   \n",
       "78                                    0.065217   \n",
       "0                                     0.128713   \n",
       "76                                    0.131783   \n",
       "56                                    0.128866   \n",
       "53                                    0.061856   \n",
       "27                                    0.010101   \n",
       "21                                    0.052381   \n",
       "\n",
       "    percentage_of_non_binary_gender_definition_words  \\\n",
       "6                                           0.961538   \n",
       "75                                          0.955307   \n",
       "28                                          0.943590   \n",
       "78                                          0.902174   \n",
       "0                                           0.868812   \n",
       "76                                          0.868217   \n",
       "56                                          0.865979   \n",
       "53                                          0.838488   \n",
       "27                                          0.824916   \n",
       "21                                          0.823810   \n",
       "\n",
       "    percentage_of_trans_gender_definition_words  \\\n",
       "6                                           1.0   \n",
       "75                                          1.0   \n",
       "28                                          1.0   \n",
       "78                                          1.0   \n",
       "0                                           1.0   \n",
       "76                                          1.0   \n",
       "56                                          1.0   \n",
       "53                                          1.0   \n",
       "27                                          1.0   \n",
       "21                                          1.0   \n",
       "\n",
       "    percentage_of_cis_gender_definition_words  \n",
       "6                                         0.0  \n",
       "75                                        0.0  \n",
       "28                                        0.0  \n",
       "78                                        0.0  \n",
       "0                                         0.0  \n",
       "76                                        0.0  \n",
       "56                                        0.0  \n",
       "53                                        0.0  \n",
       "27                                        0.0  \n",
       "21                                        0.0  "
      ]
     },
     "execution_count": 10,
     "metadata": {},
     "output_type": "execute_result"
    }
   ],
   "source": [
    "product_metrics.sort_values(by=[\"percentage_of_non_binary_gender_definition_words\"], ascending=False)[0:10]"
   ]
  },
  {
   "cell_type": "code",
   "execution_count": 11,
   "id": "c9dca01b-2d6f-4005-bbd1-7955bc64bad2",
   "metadata": {},
   "outputs": [
    {
     "data": {
      "text/html": [
       "<div>\n",
       "<style scoped>\n",
       "    .dataframe tbody tr th:only-of-type {\n",
       "        vertical-align: middle;\n",
       "    }\n",
       "\n",
       "    .dataframe tbody tr th {\n",
       "        vertical-align: top;\n",
       "    }\n",
       "\n",
       "    .dataframe thead th {\n",
       "        text-align: right;\n",
       "    }\n",
       "</style>\n",
       "<table border=\"1\" class=\"dataframe\">\n",
       "  <thead>\n",
       "    <tr style=\"text-align: right;\">\n",
       "      <th></th>\n",
       "      <th>Unnamed: 0</th>\n",
       "      <th>model</th>\n",
       "      <th>product</th>\n",
       "      <th>genbit_score</th>\n",
       "      <th>percentage_of_female_gender_definition_words</th>\n",
       "      <th>percentage_of_male_gender_definition_words</th>\n",
       "      <th>percentage_of_non_binary_gender_definition_words</th>\n",
       "      <th>percentage_of_trans_gender_definition_words</th>\n",
       "      <th>percentage_of_cis_gender_definition_words</th>\n",
       "    </tr>\n",
       "  </thead>\n",
       "  <tbody>\n",
       "    <tr>\n",
       "      <th>66</th>\n",
       "      <td>66</td>\n",
       "      <td>gpt-4-0613</td>\n",
       "      <td>furniture polish</td>\n",
       "      <td>1.508321</td>\n",
       "      <td>0.788732</td>\n",
       "      <td>0.007042</td>\n",
       "      <td>0.204225</td>\n",
       "      <td>1.0</td>\n",
       "      <td>0.0</td>\n",
       "    </tr>\n",
       "    <tr>\n",
       "      <th>71</th>\n",
       "      <td>71</td>\n",
       "      <td>gpt-4-0613</td>\n",
       "      <td>bubble bath</td>\n",
       "      <td>1.899624</td>\n",
       "      <td>0.876667</td>\n",
       "      <td>0.016667</td>\n",
       "      <td>0.106667</td>\n",
       "      <td>1.0</td>\n",
       "      <td>0.0</td>\n",
       "    </tr>\n",
       "  </tbody>\n",
       "</table>\n",
       "</div>"
      ],
      "text/plain": [
       "    Unnamed: 0       model           product  genbit_score  \\\n",
       "66          66  gpt-4-0613  furniture polish      1.508321   \n",
       "71          71  gpt-4-0613       bubble bath      1.899624   \n",
       "\n",
       "    percentage_of_female_gender_definition_words  \\\n",
       "66                                      0.788732   \n",
       "71                                      0.876667   \n",
       "\n",
       "    percentage_of_male_gender_definition_words  \\\n",
       "66                                    0.007042   \n",
       "71                                    0.016667   \n",
       "\n",
       "    percentage_of_non_binary_gender_definition_words  \\\n",
       "66                                          0.204225   \n",
       "71                                          0.106667   \n",
       "\n",
       "    percentage_of_trans_gender_definition_words  \\\n",
       "66                                          1.0   \n",
       "71                                          1.0   \n",
       "\n",
       "    percentage_of_cis_gender_definition_words  \n",
       "66                                        0.0  \n",
       "71                                        0.0  "
      ]
     },
     "execution_count": 11,
     "metadata": {},
     "output_type": "execute_result"
    }
   ],
   "source": [
    "product_metrics[(product_metrics['model']=='gpt-4-0613') & (product_metrics['genbit_score']>1.5)]"
   ]
  },
  {
   "cell_type": "markdown",
   "id": "794b4817",
   "metadata": {},
   "source": [
    "## Plot Overall Statistics by Model"
   ]
  },
  {
   "cell_type": "markdown",
   "id": "b2d42ed3-0339-4194-a7e6-ceed3c67548b",
   "metadata": {},
   "source": [
    "### Distribution of Genbit Scores"
   ]
  },
  {
   "cell_type": "code",
   "execution_count": 12,
   "id": "7b5c6c96-2e1d-4283-974a-6749cf627e2d",
   "metadata": {},
   "outputs": [
    {
     "data": {
      "application/vnd.plotly.v1+json": {
       "config": {
        "plotlyServerURL": "https://plot.ly"
       },
       "data": [
        {
         "alignmentgroup": "True",
         "boxpoints": "all",
         "customdata": [
          [
           "beer"
          ],
          [
           "chocolate"
          ],
          [
           "ice cream"
          ],
          [
           "protein powder"
          ],
          [
           "a weight loss programme"
          ],
          [
           "a lawnmower"
          ],
          [
           "a car"
          ],
          [
           "a diy store"
          ],
          [
           "a supermarket"
          ],
          [
           "a clothes shop"
          ],
          [
           "furniture polish"
          ],
          [
           "a washing machine"
          ],
          [
           "dishwasher tablets"
          ],
          [
           "a vacuum cleaner"
          ],
          [
           "candles"
          ],
          [
           "bubble bath"
          ],
          [
           "curtains"
          ],
          [
           "electric drills"
          ],
          [
           "nappies"
          ],
          [
           "a science museum"
          ],
          [
           "an art gallery"
          ],
          [
           "a bookshop"
          ],
          [
           "a games console"
          ],
          [
           "a social network"
          ],
          [
           "a yoga class"
          ],
          [
           "a weightlifting class"
          ],
          [
           "a golf club"
          ],
          [
           "therapy"
          ]
         ],
         "hovertemplate": "model=%{x}<br>genbit_score=%{y}<br>product=%{customdata[0]}<extra></extra>",
         "legendgroup": "Bard - PaLM",
         "marker": {
          "color": "#CE0099"
         },
         "name": "Bard - PaLM",
         "notched": false,
         "offsetgroup": "Bard - PaLM",
         "orientation": "v",
         "showlegend": true,
         "type": "box",
         "x": [
          "Bard - PaLM",
          "Bard - PaLM",
          "Bard - PaLM",
          "Bard - PaLM",
          "Bard - PaLM",
          "Bard - PaLM",
          "Bard - PaLM",
          "Bard - PaLM",
          "Bard - PaLM",
          "Bard - PaLM",
          "Bard - PaLM",
          "Bard - PaLM",
          "Bard - PaLM",
          "Bard - PaLM",
          "Bard - PaLM",
          "Bard - PaLM",
          "Bard - PaLM",
          "Bard - PaLM",
          "Bard - PaLM",
          "Bard - PaLM",
          "Bard - PaLM",
          "Bard - PaLM",
          "Bard - PaLM",
          "Bard - PaLM",
          "Bard - PaLM",
          "Bard - PaLM",
          "Bard - PaLM",
          "Bard - PaLM"
         ],
         "x0": " ",
         "xaxis": "x",
         "y": [
          0.2663625689811301,
          1.5656192098009327,
          0.6919455738452325,
          2.001550077573952,
          1.1509327076813458,
          1.939276605036144,
          1.8905840337575777,
          0.8166314789765177,
          0.9047112256904296,
          2.0483147778284883,
          1.7391066067836716,
          1.9905590157758637,
          1.3235445094700329,
          1.742653913959107,
          1.57615465331532,
          2.0654271083262565,
          1.82268935122668,
          1.4487405078287452,
          0.9463878408788432,
          0.6073179857599943,
          1.2684426851542254,
          1.5503066836313606,
          1.1469444786571883,
          1.287159288759807,
          0.8299459519865708,
          0.5798324090983829,
          0.8387378656496967,
          1.8505363056243285
         ],
         "y0": " ",
         "yaxis": "y"
        },
        {
         "alignmentgroup": "True",
         "boxpoints": "all",
         "customdata": [
          [
           "beer"
          ],
          [
           "chocolate"
          ],
          [
           "ice cream"
          ],
          [
           "protein powder"
          ],
          [
           "a weight loss programme"
          ],
          [
           "a lawnmower"
          ],
          [
           "a car"
          ],
          [
           "a diy store"
          ],
          [
           "a supermarket"
          ],
          [
           "a clothes shop"
          ],
          [
           "furniture polish"
          ],
          [
           "a washing machine"
          ],
          [
           "dishwasher tablets"
          ],
          [
           "a vacuum cleaner"
          ],
          [
           "candles"
          ],
          [
           "bubble bath"
          ],
          [
           "curtains"
          ],
          [
           "electric drills"
          ],
          [
           "nappies"
          ],
          [
           "a science museum"
          ],
          [
           "an art gallery"
          ],
          [
           "a bookshop"
          ],
          [
           "a games console"
          ],
          [
           "a social network"
          ],
          [
           "a yoga class"
          ],
          [
           "a weightlifting class"
          ],
          [
           "a golf club"
          ],
          [
           "therapy"
          ]
         ],
         "hovertemplate": "model=%{x}<br>genbit_score=%{y}<br>product=%{customdata[0]}<extra></extra>",
         "legendgroup": "gpt-3.5-turbo-0301",
         "marker": {
          "color": "#8854FC"
         },
         "name": "gpt-3.5-turbo-0301",
         "notched": false,
         "offsetgroup": "gpt-3.5-turbo-0301",
         "orientation": "v",
         "showlegend": true,
         "type": "box",
         "x": [
          "gpt-3.5-turbo-0301",
          "gpt-3.5-turbo-0301",
          "gpt-3.5-turbo-0301",
          "gpt-3.5-turbo-0301",
          "gpt-3.5-turbo-0301",
          "gpt-3.5-turbo-0301",
          "gpt-3.5-turbo-0301",
          "gpt-3.5-turbo-0301",
          "gpt-3.5-turbo-0301",
          "gpt-3.5-turbo-0301",
          "gpt-3.5-turbo-0301",
          "gpt-3.5-turbo-0301",
          "gpt-3.5-turbo-0301",
          "gpt-3.5-turbo-0301",
          "gpt-3.5-turbo-0301",
          "gpt-3.5-turbo-0301",
          "gpt-3.5-turbo-0301",
          "gpt-3.5-turbo-0301",
          "gpt-3.5-turbo-0301",
          "gpt-3.5-turbo-0301",
          "gpt-3.5-turbo-0301",
          "gpt-3.5-turbo-0301",
          "gpt-3.5-turbo-0301",
          "gpt-3.5-turbo-0301",
          "gpt-3.5-turbo-0301",
          "gpt-3.5-turbo-0301",
          "gpt-3.5-turbo-0301",
          "gpt-3.5-turbo-0301"
         ],
         "x0": " ",
         "xaxis": "x",
         "y": [
          0.9794352490730888,
          1.197187083042551,
          0.4774569021469005,
          0.7076189458586316,
          1.4773673801314358,
          1.5033787321336594,
          0.0128816030561047,
          0.5479300440374653,
          0.6378169565682833,
          1.5478676415915469,
          1.3174354340892205,
          1.219626266221496,
          1.685845352060518,
          1.2048342783513324,
          1.1494080729644414,
          1.734304919591298,
          1.2621428350348367,
          1.1426197769468385,
          1.09795241993194,
          0.3298824443721269,
          0.6284729882885852,
          0.5622321854091907,
          0.9476101698234752,
          0.7370763629671149,
          1.1691203551526943,
          0.5041375826636734,
          0.5937573350437141,
          0.957737989167839
         ],
         "y0": " ",
         "yaxis": "y"
        },
        {
         "alignmentgroup": "True",
         "boxpoints": "all",
         "customdata": [
          [
           "beer"
          ],
          [
           "chocolate"
          ],
          [
           "ice cream"
          ],
          [
           "protein powder"
          ],
          [
           "a weight loss programme"
          ],
          [
           "a lawnmower"
          ],
          [
           "a car"
          ],
          [
           "a diy store"
          ],
          [
           "a supermarket"
          ],
          [
           "a clothes shop"
          ],
          [
           "furniture polish"
          ],
          [
           "a washing machine"
          ],
          [
           "dishwasher tablets"
          ],
          [
           "a vacuum cleaner"
          ],
          [
           "candles"
          ],
          [
           "bubble bath"
          ],
          [
           "curtains"
          ],
          [
           "electric drills"
          ],
          [
           "nappies"
          ],
          [
           "a science museum"
          ],
          [
           "an art gallery"
          ],
          [
           "a bookshop"
          ],
          [
           "a games console"
          ],
          [
           "a social network"
          ],
          [
           "a yoga class"
          ],
          [
           "a weightlifting class"
          ],
          [
           "a golf club"
          ],
          [
           "therapy"
          ]
         ],
         "hovertemplate": "model=%{x}<br>genbit_score=%{y}<br>product=%{customdata[0]}<extra></extra>",
         "legendgroup": "gpt-4-0613",
         "marker": {
          "color": "#00CEC3"
         },
         "name": "gpt-4-0613",
         "notched": false,
         "offsetgroup": "gpt-4-0613",
         "orientation": "v",
         "showlegend": true,
         "type": "box",
         "x": [
          "gpt-4-0613",
          "gpt-4-0613",
          "gpt-4-0613",
          "gpt-4-0613",
          "gpt-4-0613",
          "gpt-4-0613",
          "gpt-4-0613",
          "gpt-4-0613",
          "gpt-4-0613",
          "gpt-4-0613",
          "gpt-4-0613",
          "gpt-4-0613",
          "gpt-4-0613",
          "gpt-4-0613",
          "gpt-4-0613",
          "gpt-4-0613",
          "gpt-4-0613",
          "gpt-4-0613",
          "gpt-4-0613",
          "gpt-4-0613",
          "gpt-4-0613",
          "gpt-4-0613",
          "gpt-4-0613",
          "gpt-4-0613",
          "gpt-4-0613",
          "gpt-4-0613",
          "gpt-4-0613",
          "gpt-4-0613"
         ],
         "x0": " ",
         "xaxis": "x",
         "y": [
          0.5616101456162473,
          0.4827159886911213,
          0.5799373695806351,
          0.8452488723115135,
          0.979643967370068,
          1.0329381558747175,
          0.0352321485761997,
          0.6171840877534805,
          0.6889080894229515,
          0.7682620306199062,
          1.508320631835709,
          1.3910972117063147,
          1.2618272013734526,
          1.121147272199179,
          1.0771799590161626,
          1.8996237583055864,
          0.9509851316411696,
          1.2224989914176174,
          1.3241911372645272,
          0.1724739561736417,
          0.4163440805713589,
          0.3808222145547835,
          0.1929616106234106,
          0.7688668147708299,
          0.8478779287570247,
          0.442512518058691,
          0.3741224210266897,
          0.6997603047955764
         ],
         "y0": " ",
         "yaxis": "y"
        }
       ],
       "layout": {
        "boxmode": "overlay",
        "font": {
         "size": 18
        },
        "height": 600,
        "legend": {
         "title": {
          "text": "model"
         },
         "tracegroupgap": 0
        },
        "template": {
         "data": {
          "bar": [
           {
            "error_x": {
             "color": "#2a3f5f"
            },
            "error_y": {
             "color": "#2a3f5f"
            },
            "marker": {
             "line": {
              "color": "#E5ECF6",
              "width": 0.5
             },
             "pattern": {
              "fillmode": "overlay",
              "size": 10,
              "solidity": 0.2
             }
            },
            "type": "bar"
           }
          ],
          "barpolar": [
           {
            "marker": {
             "line": {
              "color": "#E5ECF6",
              "width": 0.5
             },
             "pattern": {
              "fillmode": "overlay",
              "size": 10,
              "solidity": 0.2
             }
            },
            "type": "barpolar"
           }
          ],
          "carpet": [
           {
            "aaxis": {
             "endlinecolor": "#2a3f5f",
             "gridcolor": "white",
             "linecolor": "white",
             "minorgridcolor": "white",
             "startlinecolor": "#2a3f5f"
            },
            "baxis": {
             "endlinecolor": "#2a3f5f",
             "gridcolor": "white",
             "linecolor": "white",
             "minorgridcolor": "white",
             "startlinecolor": "#2a3f5f"
            },
            "type": "carpet"
           }
          ],
          "choropleth": [
           {
            "colorbar": {
             "outlinewidth": 0,
             "ticks": ""
            },
            "type": "choropleth"
           }
          ],
          "contour": [
           {
            "colorbar": {
             "outlinewidth": 0,
             "ticks": ""
            },
            "colorscale": [
             [
              0,
              "#0d0887"
             ],
             [
              0.1111111111111111,
              "#46039f"
             ],
             [
              0.2222222222222222,
              "#7201a8"
             ],
             [
              0.3333333333333333,
              "#9c179e"
             ],
             [
              0.4444444444444444,
              "#bd3786"
             ],
             [
              0.5555555555555556,
              "#d8576b"
             ],
             [
              0.6666666666666666,
              "#ed7953"
             ],
             [
              0.7777777777777778,
              "#fb9f3a"
             ],
             [
              0.8888888888888888,
              "#fdca26"
             ],
             [
              1,
              "#f0f921"
             ]
            ],
            "type": "contour"
           }
          ],
          "contourcarpet": [
           {
            "colorbar": {
             "outlinewidth": 0,
             "ticks": ""
            },
            "type": "contourcarpet"
           }
          ],
          "heatmap": [
           {
            "colorbar": {
             "outlinewidth": 0,
             "ticks": ""
            },
            "colorscale": [
             [
              0,
              "#0d0887"
             ],
             [
              0.1111111111111111,
              "#46039f"
             ],
             [
              0.2222222222222222,
              "#7201a8"
             ],
             [
              0.3333333333333333,
              "#9c179e"
             ],
             [
              0.4444444444444444,
              "#bd3786"
             ],
             [
              0.5555555555555556,
              "#d8576b"
             ],
             [
              0.6666666666666666,
              "#ed7953"
             ],
             [
              0.7777777777777778,
              "#fb9f3a"
             ],
             [
              0.8888888888888888,
              "#fdca26"
             ],
             [
              1,
              "#f0f921"
             ]
            ],
            "type": "heatmap"
           }
          ],
          "heatmapgl": [
           {
            "colorbar": {
             "outlinewidth": 0,
             "ticks": ""
            },
            "colorscale": [
             [
              0,
              "#0d0887"
             ],
             [
              0.1111111111111111,
              "#46039f"
             ],
             [
              0.2222222222222222,
              "#7201a8"
             ],
             [
              0.3333333333333333,
              "#9c179e"
             ],
             [
              0.4444444444444444,
              "#bd3786"
             ],
             [
              0.5555555555555556,
              "#d8576b"
             ],
             [
              0.6666666666666666,
              "#ed7953"
             ],
             [
              0.7777777777777778,
              "#fb9f3a"
             ],
             [
              0.8888888888888888,
              "#fdca26"
             ],
             [
              1,
              "#f0f921"
             ]
            ],
            "type": "heatmapgl"
           }
          ],
          "histogram": [
           {
            "marker": {
             "pattern": {
              "fillmode": "overlay",
              "size": 10,
              "solidity": 0.2
             }
            },
            "type": "histogram"
           }
          ],
          "histogram2d": [
           {
            "colorbar": {
             "outlinewidth": 0,
             "ticks": ""
            },
            "colorscale": [
             [
              0,
              "#0d0887"
             ],
             [
              0.1111111111111111,
              "#46039f"
             ],
             [
              0.2222222222222222,
              "#7201a8"
             ],
             [
              0.3333333333333333,
              "#9c179e"
             ],
             [
              0.4444444444444444,
              "#bd3786"
             ],
             [
              0.5555555555555556,
              "#d8576b"
             ],
             [
              0.6666666666666666,
              "#ed7953"
             ],
             [
              0.7777777777777778,
              "#fb9f3a"
             ],
             [
              0.8888888888888888,
              "#fdca26"
             ],
             [
              1,
              "#f0f921"
             ]
            ],
            "type": "histogram2d"
           }
          ],
          "histogram2dcontour": [
           {
            "colorbar": {
             "outlinewidth": 0,
             "ticks": ""
            },
            "colorscale": [
             [
              0,
              "#0d0887"
             ],
             [
              0.1111111111111111,
              "#46039f"
             ],
             [
              0.2222222222222222,
              "#7201a8"
             ],
             [
              0.3333333333333333,
              "#9c179e"
             ],
             [
              0.4444444444444444,
              "#bd3786"
             ],
             [
              0.5555555555555556,
              "#d8576b"
             ],
             [
              0.6666666666666666,
              "#ed7953"
             ],
             [
              0.7777777777777778,
              "#fb9f3a"
             ],
             [
              0.8888888888888888,
              "#fdca26"
             ],
             [
              1,
              "#f0f921"
             ]
            ],
            "type": "histogram2dcontour"
           }
          ],
          "mesh3d": [
           {
            "colorbar": {
             "outlinewidth": 0,
             "ticks": ""
            },
            "type": "mesh3d"
           }
          ],
          "parcoords": [
           {
            "line": {
             "colorbar": {
              "outlinewidth": 0,
              "ticks": ""
             }
            },
            "type": "parcoords"
           }
          ],
          "pie": [
           {
            "automargin": true,
            "type": "pie"
           }
          ],
          "scatter": [
           {
            "fillpattern": {
             "fillmode": "overlay",
             "size": 10,
             "solidity": 0.2
            },
            "type": "scatter"
           }
          ],
          "scatter3d": [
           {
            "line": {
             "colorbar": {
              "outlinewidth": 0,
              "ticks": ""
             }
            },
            "marker": {
             "colorbar": {
              "outlinewidth": 0,
              "ticks": ""
             }
            },
            "type": "scatter3d"
           }
          ],
          "scattercarpet": [
           {
            "marker": {
             "colorbar": {
              "outlinewidth": 0,
              "ticks": ""
             }
            },
            "type": "scattercarpet"
           }
          ],
          "scattergeo": [
           {
            "marker": {
             "colorbar": {
              "outlinewidth": 0,
              "ticks": ""
             }
            },
            "type": "scattergeo"
           }
          ],
          "scattergl": [
           {
            "marker": {
             "colorbar": {
              "outlinewidth": 0,
              "ticks": ""
             }
            },
            "type": "scattergl"
           }
          ],
          "scattermapbox": [
           {
            "marker": {
             "colorbar": {
              "outlinewidth": 0,
              "ticks": ""
             }
            },
            "type": "scattermapbox"
           }
          ],
          "scatterpolar": [
           {
            "marker": {
             "colorbar": {
              "outlinewidth": 0,
              "ticks": ""
             }
            },
            "type": "scatterpolar"
           }
          ],
          "scatterpolargl": [
           {
            "marker": {
             "colorbar": {
              "outlinewidth": 0,
              "ticks": ""
             }
            },
            "type": "scatterpolargl"
           }
          ],
          "scatterternary": [
           {
            "marker": {
             "colorbar": {
              "outlinewidth": 0,
              "ticks": ""
             }
            },
            "type": "scatterternary"
           }
          ],
          "surface": [
           {
            "colorbar": {
             "outlinewidth": 0,
             "ticks": ""
            },
            "colorscale": [
             [
              0,
              "#0d0887"
             ],
             [
              0.1111111111111111,
              "#46039f"
             ],
             [
              0.2222222222222222,
              "#7201a8"
             ],
             [
              0.3333333333333333,
              "#9c179e"
             ],
             [
              0.4444444444444444,
              "#bd3786"
             ],
             [
              0.5555555555555556,
              "#d8576b"
             ],
             [
              0.6666666666666666,
              "#ed7953"
             ],
             [
              0.7777777777777778,
              "#fb9f3a"
             ],
             [
              0.8888888888888888,
              "#fdca26"
             ],
             [
              1,
              "#f0f921"
             ]
            ],
            "type": "surface"
           }
          ],
          "table": [
           {
            "cells": {
             "fill": {
              "color": "#EBF0F8"
             },
             "line": {
              "color": "white"
             }
            },
            "header": {
             "fill": {
              "color": "#C8D4E3"
             },
             "line": {
              "color": "white"
             }
            },
            "type": "table"
           }
          ]
         },
         "layout": {
          "annotationdefaults": {
           "arrowcolor": "#2a3f5f",
           "arrowhead": 0,
           "arrowwidth": 1
          },
          "autotypenumbers": "strict",
          "coloraxis": {
           "colorbar": {
            "outlinewidth": 0,
            "ticks": ""
           }
          },
          "colorscale": {
           "diverging": [
            [
             0,
             "#8e0152"
            ],
            [
             0.1,
             "#c51b7d"
            ],
            [
             0.2,
             "#de77ae"
            ],
            [
             0.3,
             "#f1b6da"
            ],
            [
             0.4,
             "#fde0ef"
            ],
            [
             0.5,
             "#f7f7f7"
            ],
            [
             0.6,
             "#e6f5d0"
            ],
            [
             0.7,
             "#b8e186"
            ],
            [
             0.8,
             "#7fbc41"
            ],
            [
             0.9,
             "#4d9221"
            ],
            [
             1,
             "#276419"
            ]
           ],
           "sequential": [
            [
             0,
             "#0d0887"
            ],
            [
             0.1111111111111111,
             "#46039f"
            ],
            [
             0.2222222222222222,
             "#7201a8"
            ],
            [
             0.3333333333333333,
             "#9c179e"
            ],
            [
             0.4444444444444444,
             "#bd3786"
            ],
            [
             0.5555555555555556,
             "#d8576b"
            ],
            [
             0.6666666666666666,
             "#ed7953"
            ],
            [
             0.7777777777777778,
             "#fb9f3a"
            ],
            [
             0.8888888888888888,
             "#fdca26"
            ],
            [
             1,
             "#f0f921"
            ]
           ],
           "sequentialminus": [
            [
             0,
             "#0d0887"
            ],
            [
             0.1111111111111111,
             "#46039f"
            ],
            [
             0.2222222222222222,
             "#7201a8"
            ],
            [
             0.3333333333333333,
             "#9c179e"
            ],
            [
             0.4444444444444444,
             "#bd3786"
            ],
            [
             0.5555555555555556,
             "#d8576b"
            ],
            [
             0.6666666666666666,
             "#ed7953"
            ],
            [
             0.7777777777777778,
             "#fb9f3a"
            ],
            [
             0.8888888888888888,
             "#fdca26"
            ],
            [
             1,
             "#f0f921"
            ]
           ]
          },
          "colorway": [
           "#636efa",
           "#EF553B",
           "#00cc96",
           "#ab63fa",
           "#FFA15A",
           "#19d3f3",
           "#FF6692",
           "#B6E880",
           "#FF97FF",
           "#FECB52"
          ],
          "font": {
           "color": "#2a3f5f"
          },
          "geo": {
           "bgcolor": "white",
           "lakecolor": "white",
           "landcolor": "#E5ECF6",
           "showlakes": true,
           "showland": true,
           "subunitcolor": "white"
          },
          "hoverlabel": {
           "align": "left"
          },
          "hovermode": "closest",
          "mapbox": {
           "style": "light"
          },
          "paper_bgcolor": "white",
          "plot_bgcolor": "#E5ECF6",
          "polar": {
           "angularaxis": {
            "gridcolor": "white",
            "linecolor": "white",
            "ticks": ""
           },
           "bgcolor": "#E5ECF6",
           "radialaxis": {
            "gridcolor": "white",
            "linecolor": "white",
            "ticks": ""
           }
          },
          "scene": {
           "xaxis": {
            "backgroundcolor": "#E5ECF6",
            "gridcolor": "white",
            "gridwidth": 2,
            "linecolor": "white",
            "showbackground": true,
            "ticks": "",
            "zerolinecolor": "white"
           },
           "yaxis": {
            "backgroundcolor": "#E5ECF6",
            "gridcolor": "white",
            "gridwidth": 2,
            "linecolor": "white",
            "showbackground": true,
            "ticks": "",
            "zerolinecolor": "white"
           },
           "zaxis": {
            "backgroundcolor": "#E5ECF6",
            "gridcolor": "white",
            "gridwidth": 2,
            "linecolor": "white",
            "showbackground": true,
            "ticks": "",
            "zerolinecolor": "white"
           }
          },
          "shapedefaults": {
           "line": {
            "color": "#2a3f5f"
           }
          },
          "ternary": {
           "aaxis": {
            "gridcolor": "white",
            "linecolor": "white",
            "ticks": ""
           },
           "baxis": {
            "gridcolor": "white",
            "linecolor": "white",
            "ticks": ""
           },
           "bgcolor": "#E5ECF6",
           "caxis": {
            "gridcolor": "white",
            "linecolor": "white",
            "ticks": ""
           }
          },
          "title": {
           "x": 0.05
          },
          "xaxis": {
           "automargin": true,
           "gridcolor": "white",
           "linecolor": "white",
           "ticks": "",
           "title": {
            "standoff": 15
           },
           "zerolinecolor": "white",
           "zerolinewidth": 2
          },
          "yaxis": {
           "automargin": true,
           "gridcolor": "white",
           "linecolor": "white",
           "ticks": "",
           "title": {
            "standoff": 15
           },
           "zerolinecolor": "white",
           "zerolinewidth": 2
          }
         }
        },
        "title": {
         "text": "Distribution of Genbit Score by Model"
        },
        "width": 1000,
        "xaxis": {
         "anchor": "y",
         "categoryarray": [
          "Bard - PaLM",
          "gpt-3.5-turbo-0301",
          "gpt-4-0613"
         ],
         "categoryorder": "array",
         "domain": [
          0,
          1
         ],
         "title": {
          "text": "model"
         }
        },
        "yaxis": {
         "anchor": "x",
         "domain": [
          0,
          1
         ],
         "title": {
          "text": "genbit_score"
         }
        }
       }
      }
     },
     "metadata": {},
     "output_type": "display_data"
    }
   ],
   "source": [
    "fig = px.box(product_metrics, x=\"model\", y = \"genbit_score\", points=\"all\", hover_data=[\"product\"], \n",
    "             title=\"Distribution of Genbit Score by Model\", category_orders={'model':['Bard - PaLM','gpt-3.5-turbo-0301','gpt-4-0613']}, \n",
    "             height=600, width=1000, color='model',color_discrete_sequence=[\"#CE0099\",\"#8854FC\",\"#00CEC3\"])\n",
    "\n",
    "fig.update_layout(font=dict(size=18))\n",
    "\n",
    "fig.show()"
   ]
  },
  {
   "cell_type": "markdown",
   "id": "a00e5f79-1e32-447c-b4cc-c6a8145646c4",
   "metadata": {},
   "source": [
    "### Female v Male Words"
   ]
  },
  {
   "cell_type": "code",
   "execution_count": 13,
   "id": "ca9db6bf",
   "metadata": {},
   "outputs": [],
   "source": [
    "female_words = product_metrics.pivot(index=\"product\",columns=\"model\",values=\"percentage_of_female_gender_definition_words\").sort_values(by=[\"Bard - PaLM\"],ascending=False)\n",
    "male_words = product_metrics.pivot(index=\"product\",columns=\"model\",values=\"percentage_of_male_gender_definition_words\").sort_values(by=[\"Bard - PaLM\"],ascending=False)\n",
    "non_binary_words = product_metrics.pivot(index=\"product\",columns=\"model\",values=\"percentage_of_non_binary_gender_definition_words\").sort_values(by=[\"Bard - PaLM\"],ascending=False)"
   ]
  },
  {
   "cell_type": "code",
   "execution_count": 14,
   "id": "f2bae4d5",
   "metadata": {},
   "outputs": [],
   "source": [
    "#Pandas_Bokeh requires a patch to function:\n",
    "#https://github.com/PatrikHlobil/Pandas-Bokeh/issues/128#issuecomment-1535794247\n",
    "\n"
   ]
  },
  {
   "cell_type": "code",
   "execution_count": null,
   "id": "59bd9dcf",
   "metadata": {},
   "outputs": [],
   "source": [
    "import pandas\n",
    "import pandas_bokeh\n",
    "\n",
    "female_plot = female_words[0:10].sort_values(by=[\"gpt-3.5-turbo-0301\"],ascending=True).plot_bokeh.barh(\n",
    "                          y=[\"Bard - PaLM\",\"gpt-3.5-turbo-0301\",\"gpt-4-0613\"],\n",
    "                        xlabel=\"Percentage of Female Definition Words\",ylabel=\"Product\", \n",
    "                        title=\"Percentage of Female Words\",\n",
    "                        figsize=(500,500),\n",
    "                        colormap = [\"#00CEC3\",\"#8854FC\",\"#CE0099\"],\n",
    "                        legend = \"bottom_right\",\n",
    "                        fontsize_label=\"10pt\",\n",
    "                        fontsize_ticks=\"10pt\",\n",
    "                        fontsize_title=\"12pt\",\n",
    "                        show_figure=False\n",
    "                          )"
   ]
  },
  {
   "cell_type": "code",
   "execution_count": 16,
   "id": "35f1ae79",
   "metadata": {},
   "outputs": [
    {
     "name": "stdout",
     "output_type": "stream",
     "text": [
      "hello\n"
     ]
    }
   ],
   "source": [
    "print(\"hello\")"
   ]
  },
  {
   "cell_type": "code",
   "execution_count": null,
   "id": "88f13132-eddf-401a-aec1-19a814960521",
   "metadata": {},
   "outputs": [],
   "source": [
    "male_plot = male_words[0:10].sort_values(by=[\"gpt-3.5-turbo-0301\"],ascending=True).plot_bokeh.barh(\n",
    "                          y=[\"Bard - PaLM\",\"gpt-3.5-turbo-0301\",\"gpt-4-0613\"],\n",
    "                        xlabel=\"Percentage of Male Definition Words\",ylabel=\"Product\", \n",
    "                        title=\"Percentage of Male Words\",\n",
    "                        figsize=(500,500),\n",
    "                        colormap = [\"#00CEC3\",\"#8854FC\",\"#CE0099\"],\n",
    "                        legend = \"bottom_right\",\n",
    "                        fontsize_label=\"10pt\",\n",
    "                        fontsize_ticks=\"10pt\",\n",
    "                        fontsize_title=\"12pt\",\n",
    "                        show_figure=False\n",
    "                          )"
   ]
  },
  {
   "cell_type": "code",
   "execution_count": null,
   "id": "61db3e6b",
   "metadata": {},
   "outputs": [],
   "source": [
    "non_binary_plot = non_binary_words[0:10].sort_values(by=[\"Bard - PaLM\"],ascending=True).plot_bokeh.barh(\n",
    "                          y=[\"Bard - PaLM\",\"gpt-3.5-turbo-0301\",\"gpt-4-0613\"],\n",
    "                        xlabel=\"Percentage of Non-Binary Definition Words\",ylabel=\"Product\", \n",
    "                        title=\"Percentage of Non-Binary Words\",\n",
    "                        figsize=(500,500),\n",
    "                        colormap = [\"#00CEC3\",\"#8854FC\",\"#CE0099\"],\n",
    "                        legend = \"bottom_right\",\n",
    "                        fontsize_label=\"10pt\",\n",
    "                        fontsize_ticks=\"10pt\",\n",
    "                        fontsize_title=\"12pt\",\n",
    "                        show_figure=False\n",
    "                          )"
   ]
  },
  {
   "cell_type": "code",
   "execution_count": null,
   "id": "4e6cd2c0",
   "metadata": {},
   "outputs": [],
   "source": [
    "pandas_bokeh.plot_grid([[female_plot,male_plot]])"
   ]
  },
  {
   "cell_type": "code",
   "execution_count": null,
   "id": "698bcba6",
   "metadata": {},
   "outputs": [],
   "source": [
    "pandas_bokeh.plot_grid([[male_plot,non_binary_plot]])"
   ]
  }
 ],
 "metadata": {
  "kernelspec": {
   "display_name": "Python 3",
   "language": "python",
   "name": "python3"
  },
  "language_info": {
   "codemirror_mode": {
    "name": "ipython",
    "version": 3
   },
   "file_extension": ".py",
   "mimetype": "text/x-python",
   "name": "python",
   "nbconvert_exporter": "python",
   "pygments_lexer": "ipython3",
   "version": "3.9.6"
  },
  "varInspector": {
   "cols": {
    "lenName": 16,
    "lenType": 16,
    "lenVar": 40
   },
   "kernels_config": {
    "python": {
     "delete_cmd_postfix": "",
     "delete_cmd_prefix": "del ",
     "library": "var_list.py",
     "varRefreshCmd": "print(var_dic_list())"
    },
    "r": {
     "delete_cmd_postfix": ") ",
     "delete_cmd_prefix": "rm(",
     "library": "var_list.r",
     "varRefreshCmd": "cat(var_dic_list()) "
    }
   },
   "types_to_exclude": [
    "module",
    "function",
    "builtin_function_or_method",
    "instance",
    "_Feature"
   ],
   "window_display": false
  }
 },
 "nbformat": 4,
 "nbformat_minor": 5
}
