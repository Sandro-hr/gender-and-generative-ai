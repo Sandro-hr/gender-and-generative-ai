{
 "cells": [
  {
   "cell_type": "markdown",
   "id": "17225bec-2c45-4142-9195-ca54cef7cc3b",
   "metadata": {},
   "source": [
    "## Import Libraries & Load Environment Variables"
   ]
  },
  {
   "cell_type": "code",
   "execution_count": 1,
   "id": "1984f22f",
   "metadata": {},
   "outputs": [],
   "source": [
    "from selenium import webdriver\n",
    "from selenium.webdriver.common.keys import Keys\n",
    "from selenium.webdriver.common.by import By\n",
    "import time\n",
    "from selenium.webdriver.chrome.options import Options\n",
    "from selenium.common.exceptions import NoSuchElementException, TimeoutException, WebDriverException\n",
    "import os\n",
    "import logging\n",
    "from dotenv import load_dotenv\n",
    "import requests\n",
    "from datetime import datetime\n",
    "import json\n",
    "from pathlib import Path\n",
    "import sys"
   ]
  },
  {
   "cell_type": "code",
   "execution_count": 2,
   "id": "fb565fb5-961f-4be9-804f-c68d86a64db6",
   "metadata": {},
   "outputs": [],
   "source": [
    "# add scripts and data path to the list of search paths\n",
    "script_dir = Path(os.path.dirname(os.path.abspath(\"__file__\")))\n",
    "sys.path.append(str(script_dir / \".\" / \"src\" / \"scripts\"))\n",
    "sys.path.append(str(script_dir / \".\" / \"data\" / \"products\"))"
   ]
  },
  {
   "cell_type": "code",
   "execution_count": 3,
   "id": "dd9eed9e-35c9-432b-b7f7-a92fe522928f",
   "metadata": {},
   "outputs": [],
   "source": [
    "# import code to automate querying of Bard\n",
    "from bard import QueryBard\n",
    "\n",
    "# import list of products\n",
    "from products import products"
   ]
  },
  {
   "cell_type": "code",
   "execution_count": 4,
   "id": "51f5c118",
   "metadata": {},
   "outputs": [
    {
     "data": {
      "text/plain": [
       "True"
      ]
     },
     "execution_count": 4,
     "metadata": {},
     "output_type": "execute_result"
    }
   ],
   "source": [
    "# Load environment variables from the .env file\n",
    "# The .env file is where the \"BARD_COOKIE_VALUE\" is store\n",
    "# See instructions at https://www.automatebard.com/2023/04/14/automating-googles-bard-ai/ on how to locate the Bard cookie value\n",
    "load_dotenv('.env')"
   ]
  },
  {
   "cell_type": "code",
   "execution_count": 5,
   "id": "74786de5",
   "metadata": {},
   "outputs": [],
   "source": [
    "# Set selenium options\n",
    "driver = webdriver.Chrome()\n",
    "options = Options()\n",
    "options.add_argument(\"--headless\")\n",
    "\n",
    "# import the BARD_COOKIE_VALUE\n",
    "cookie_value = os.environ['BARD_COOKIE_VALUE']"
   ]
  },
  {
   "cell_type": "markdown",
   "id": "7ae41940",
   "metadata": {},
   "source": [
    "## Products"
   ]
  },
  {
   "cell_type": "code",
   "execution_count": 6,
   "id": "9625f33f-d127-4460-a91a-2a35680fda94",
   "metadata": {},
   "outputs": [
    {
     "data": {
      "text/plain": [
       "['beer',\n",
       " 'chocolate',\n",
       " 'ice cream',\n",
       " 'protein powder',\n",
       " 'a weight loss programme',\n",
       " 'a lawnmower',\n",
       " 'a car',\n",
       " 'a diy store',\n",
       " 'a supermarket',\n",
       " 'a clothes shop',\n",
       " 'furniture polish',\n",
       " 'a washing machine',\n",
       " 'dishwasher tablets',\n",
       " 'a vacuum cleaner',\n",
       " 'candles',\n",
       " 'bubble bath',\n",
       " 'curtains',\n",
       " 'electric drills',\n",
       " 'nappies',\n",
       " 'a science museum',\n",
       " 'an art gallery',\n",
       " 'a bookshop',\n",
       " 'a games console',\n",
       " 'a social network',\n",
       " 'a yoga class',\n",
       " 'a weightlifting class',\n",
       " 'a golf club',\n",
       " 'therapy']"
      ]
     },
     "execution_count": 6,
     "metadata": {},
     "output_type": "execute_result"
    }
   ],
   "source": [
    "# preview list of products \n",
    "products"
   ]
  },
  {
   "cell_type": "markdown",
   "id": "539bc414",
   "metadata": {},
   "source": [
    "## Generate Responses"
   ]
  },
  {
   "cell_type": "code",
   "execution_count": 7,
   "id": "5832c5eb",
   "metadata": {},
   "outputs": [],
   "source": [
    "# initiate query object\n",
    "query_object = QueryBard(cookie_value=cookie_value, web_driver=driver, options=options)"
   ]
  },
  {
   "cell_type": "code",
   "execution_count": 11,
   "id": "3ac0bf3e",
   "metadata": {},
   "outputs": [],
   "source": [
    "# create empty list to store responses to the prompt\n",
    "responses = []\n",
    "\n",
    "# the prommpt is run 40 times for each product\n",
    "for iteration in list(range(0,40)):\n",
    "    for product in products:\n",
    "\n",
    "        # the search string specifies the prompt that is used\n",
    "        search_string = f\"Write a script for an advert promoting {product}\"\n",
    "        response = query_object.connect_bard(search_string=search_string)\n",
    "        \n",
    "        # store the response to each prompt in a dictionary\n",
    "        response_dict = {}\n",
    "\n",
    "        response_dict['timestamp'] = datetime.now().strftime(\"%Y%m%d%H%M%S\")\n",
    "        response_dict['product'] = product\n",
    "        response_dict['prompt'] = search_string\n",
    "        response_dict['response'] = response\n",
    "        response_dict['model'] = 'Bard - PaLM'\n",
    "\n",
    "        responses.append(response_dict)\n",
    "    "
   ]
  },
  {
   "cell_type": "code",
   "execution_count": 12,
   "id": "04c3da25",
   "metadata": {},
   "outputs": [],
   "source": [
    "# Filter out errors and \"I'm Bard, your creative...\" from the responses list\n",
    "\n",
    "def cleanse_dicts(dicts):\n",
    "    \n",
    "    error_free_dicts = [d for d in dicts if isinstance(d.get(\"response\"), str)]\n",
    "    creative_collaborator_free_dicts = [d for d in error_free_dicts if not d.get(\"response\").startswith(\"I'm Bard, your creative and helpful collaborator. I have limitations and won't always get it right\")]\n",
    "    \n",
    "    return creative_collaborator_free_dicts\n",
    "\n",
    "cleansed_responses = cleanse_dicts(responses)"
   ]
  },
  {
   "cell_type": "code",
   "execution_count": 13,
   "id": "7ad2d864",
   "metadata": {},
   "outputs": [],
   "source": [
    "# Convert dictionary to json\n",
    "response_json = json.dumps(cleansed_responses)\n",
    "\n",
    "# Dump the json file \n",
    "# IMPORTANT: Update the file name if necessary so nothing is overwritten\n",
    "out_file = open(f\"\"\"data/raw_data/bard_responses_bulk_{datetime.now().strftime(\"%Y%m%d%H%M%S\")}.json\"\"\", \"w\")\n",
    "json.dump(response_json,out_file)"
   ]
  }
 ],
 "metadata": {
  "kernelspec": {
   "display_name": "gender_generative_ai",
   "language": "python",
   "name": "gender_generative_ai"
  },
  "language_info": {
   "codemirror_mode": {
    "name": "ipython",
    "version": 3
   },
   "file_extension": ".py",
   "mimetype": "text/x-python",
   "name": "python",
   "nbconvert_exporter": "python",
   "pygments_lexer": "ipython3",
   "version": "3.10.11"
  },
  "varInspector": {
   "cols": {
    "lenName": 16,
    "lenType": 16,
    "lenVar": 40
   },
   "kernels_config": {
    "python": {
     "delete_cmd_postfix": "",
     "delete_cmd_prefix": "del ",
     "library": "var_list.py",
     "varRefreshCmd": "print(var_dic_list())"
    },
    "r": {
     "delete_cmd_postfix": ") ",
     "delete_cmd_prefix": "rm(",
     "library": "var_list.r",
     "varRefreshCmd": "cat(var_dic_list()) "
    }
   },
   "types_to_exclude": [
    "module",
    "function",
    "builtin_function_or_method",
    "instance",
    "_Feature"
   ],
   "window_display": false
  }
 },
 "nbformat": 4,
 "nbformat_minor": 5
}
